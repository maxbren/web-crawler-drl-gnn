{
 "cells": [
  {
   "cell_type": "code",
   "execution_count": 14,
   "metadata": {
    "collapsed": true
   },
   "outputs": [],
   "source": [
    "import numpy as np\n",
    "import networkx as nx\n",
    "import matplotlib.pyplot as plt\n",
    "from collections import OrderedDict"
   ]
  },
  {
   "cell_type": "code",
   "execution_count": 2,
   "metadata": {
    "collapsed": true
   },
   "outputs": [],
   "source": [
    "node_feats = np.array([\n",
    "    [4, 3, 5],\n",
    "    [2, 6, 3],\n",
    "    [6, 7, 4],\n",
    "    [7, 3, 5],\n",
    "    [2, 6, 7]\n",
    "])"
   ]
  },
  {
   "cell_type": "code",
   "execution_count": 9,
   "metadata": {},
   "outputs": [
    {
     "data": {
      "image/png": "[encoded data removed]",
      "text/plain": [
       "<Figure size 432x288 with 1 Axes>"
      ]
     },
     "metadata": {},
     "output_type": "display_data"
    }
   ],
   "source": [
    "edges = [(1, 4), (1, 2), (4, 2), (4, 3), (3, 0)]\n",
    "G_whole = nx.DiGraph()\n",
    "G_whole.add_edges_from(edges)\n",
    "nx.draw_kamada_kawai(G_whole, with_labels=True)\n",
    "plt.show()"
   ]
  },
  {
   "cell_type": "code",
   "execution_count": 45,
   "metadata": {
    "collapsed": true
   },
   "outputs": [],
   "source": [
    "# node_indx is the same indx as G_curr and G_whole\n",
    "# current_nodes is the oredereddict of current nodes\n",
    "def add_children(G_curr, node_indx, current_nodes):\n",
    "    # Check the children of the node to see if they need to be added to the current graph\n",
    "    children = G_whole.successors(node_indx)\n",
    "    for child in children:\n",
    "        # Add child if not in G and check if goal\n",
    "        if child not in G_curr:\n",
    "            G_curr.add_node(child)\n",
    "            current_nodes.update({child: len(current_nodes)})\n",
    "        # If the edge doesnt exist add it\n",
    "        if not G_curr.has_edge(node_indx, child):\n",
    "            G_curr.add_edge(node_indx, child)"
   ]
  },
  {
   "cell_type": "code",
   "execution_count": 61,
   "metadata": {},
   "outputs": [
    {
     "data": {
      "image/png": "[encoded data removed]",
      "text/plain": [
       "<Figure size 432x288 with 1 Axes>"
      ]
     },
     "metadata": {},
     "output_type": "display_data"
    }
   ],
   "source": [
    "init_node = 1\n",
    "G_curr = nx.DiGraph()\n",
    "G_curr.add_node(init_node)\n",
    "current_nodes = OrderedDict({init_node: 0})\n",
    "add_children(G_curr, init_node, current_nodes)\n",
    "nx.draw_kamada_kawai(G_curr, with_labels=True)\n",
    "plt.show()"
   ]
  },
  {
   "cell_type": "code",
   "execution_count": 47,
   "metadata": {
    "collapsed": true
   },
   "outputs": [],
   "source": [
    "# current_nodes: ordereddict with keys as abs node indices, values as rel node indices (rel to the ordered dict)\n",
    "def get_predecessors(G_curr, current_nodes):\n",
    "    all_preds = []  # List of lists\n",
    "    for node in current_nodes.keys():\n",
    "        preds_abs = G_curr.predecessors(node)  # abs to all nodes, keys to the dict\n",
    "        preds_rel = [current_nodes[x] for x in preds_abs]\n",
    "        all_preds.append(preds_rel)\n",
    "    return all_preds  # Returns a list of lists with the values being tth rel node indices"
   ]
  },
  {
   "cell_type": "code",
   "execution_count": 48,
   "metadata": {
    "collapsed": true
   },
   "outputs": [],
   "source": [
    "def _aggregate(predecessors, messages, num_nodes, message_size):\n",
    "    agg = []\n",
    "    # Collect all in predecessors for each node, if a node has no preds then just 0s for it\n",
    "    for preds in predecessors:\n",
    "        if len(preds) > 0:\n",
    "            in_mess = messages[preds, :]\n",
    "            assert in_mess.shape == (len(preds), message_size) or in_mess.shape == (message_size,)  # if one in-node\n",
    "            agg_in_mess = np.sum(in_mess, axis=0)\n",
    "            assert agg_in_mess.shape == (message_size,)\n",
    "            agg.append(agg_in_mess)\n",
    "        else:\n",
    "            agg.append(np.zeros(shape=(message_size,)))\n",
    "    stack = np.stack(agg)\n",
    "    assert stack.shape == (num_nodes, message_size)\n",
    "    return stack"
   ]
  },
  {
   "cell_type": "code",
   "execution_count": 49,
   "metadata": {},
   "outputs": [
    {
     "data": {
      "text/plain": [
       "OrderedDict([(1, 0), (4, 1), (2, 2)])"
      ]
     },
     "execution_count": 49,
     "metadata": {},
     "output_type": "execute_result"
    }
   ],
   "source": [
    "current_nodes"
   ]
  },
  {
   "cell_type": "code",
   "execution_count": 50,
   "metadata": {
    "scrolled": false
   },
   "outputs": [
    {
     "name": "stdout",
     "output_type": "stream",
     "text": [
      "[[2 6 3]\n",
      " [2 6 7]\n",
      " [6 7 4]]\n",
      "[[], [0], [0]]\n"
     ]
    }
   ],
   "source": [
    "# Prop\n",
    "current_node_states = node_feats[list(current_nodes.keys())] \n",
    "print(current_node_states)\n",
    "predecessors = get_predecessors(G_curr, current_nodes)\n",
    "print(predecessors)\n",
    "# node_states, outputs = gnn(current_node_states, p == 0, p == num_props-1, predecessors)"
   ]
  },
  {
   "cell_type": "code",
   "execution_count": 51,
   "metadata": {},
   "outputs": [
    {
     "data": {
      "text/plain": [
       "array([[0., 0.],\n",
       "       [4., 2.],\n",
       "       [4., 2.]])"
      ]
     },
     "execution_count": 51,
     "metadata": {},
     "output_type": "execute_result"
    }
   ],
   "source": [
    "messages = np.array([\n",
    "    [4, 2],\n",
    "    [4, 6],\n",
    "    [6, 4],\n",
    "])\n",
    "_aggregate(predecessors, messages, 3, 2)"
   ]
  },
  {
   "cell_type": "code",
   "execution_count": 52,
   "metadata": {
    "collapsed": true
   },
   "outputs": [],
   "source": [
    "returned_states = np.array([\n",
    "    [6, 4, 5],\n",
    "    [7, 5, 5],\n",
    "    [1, 7, 1]\n",
    "])\n",
    "new_node_feats = node_feats.copy()\n",
    "new_node_feats[list(current_nodes.keys())] = returned_states"
   ]
  },
  {
   "cell_type": "code",
   "execution_count": 53,
   "metadata": {},
   "outputs": [
    {
     "data": {
      "text/plain": [
       "array([[4, 3, 5],\n",
       "       [6, 4, 5],\n",
       "       [1, 7, 1],\n",
       "       [7, 3, 5],\n",
       "       [7, 5, 5]])"
      ]
     },
     "execution_count": 53,
     "metadata": {},
     "output_type": "execute_result"
    }
   ],
   "source": [
    "new_node_feats"
   ]
  },
  {
   "cell_type": "code",
   "execution_count": 63,
   "metadata": {},
   "outputs": [
    {
     "data": {
      "text/plain": [
       "4"
      ]
     },
     "execution_count": 63,
     "metadata": {},
     "output_type": "execute_result"
    }
   ],
   "source": [
    "outputs = np.array([3, 6, 2])\n",
    "best = np.argmax(outputs)\n",
    "actual_node_idx = list(current_nodes.keys())[best]\n",
    "actual_node_idx"
   ]
  },
  {
   "cell_type": "code",
   "execution_count": 64,
   "metadata": {},
   "outputs": [],
   "source": [
    "selected_node = 4\n",
    "add_children(G_curr, selected_node, current_nodes)"
   ]
  },
  {
   "cell_type": "code",
   "execution_count": 65,
   "metadata": {},
   "outputs": [
    {
     "data": {
      "image/png": "[encoded data removed]",
      "text/plain": [
       "<Figure size 432x288 with 1 Axes>"
      ]
     },
     "metadata": {},
     "output_type": "display_data"
    }
   ],
   "source": [
    "nx.draw_kamada_kawai(G_curr, with_labels=True)\n",
    "plt.show()"
   ]
  },
  {
   "cell_type": "code",
   "execution_count": 66,
   "metadata": {},
   "outputs": [
    {
     "data": {
      "text/plain": [
       "OrderedDict([(1, 0), (4, 1), (2, 2), (3, 3)])"
      ]
     },
     "execution_count": 66,
     "metadata": {},
     "output_type": "execute_result"
    }
   ],
   "source": [
    "current_nodes"
   ]
  }
 ],
 "metadata": {
  "kernelspec": {
   "display_name": "Python 3",
   "language": "python",
   "name": "python3"
  },
  "language_info": {
   "codemirror_mode": {
    "name": "ipython",
    "version": 3
   },
   "file_extension": ".py",
   "mimetype": "text/x-python",
   "name": "python",
   "nbconvert_exporter": "python",
   "pygments_lexer": "ipython3",
   "version": "3.6.8"
  }
 },
 "nbformat": 4,
 "nbformat_minor": 2
}
