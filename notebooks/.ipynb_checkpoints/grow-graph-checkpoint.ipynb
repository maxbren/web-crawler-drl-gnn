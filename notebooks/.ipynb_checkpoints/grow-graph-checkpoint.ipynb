{
 "cells": [
  {
   "cell_type": "code",
   "execution_count": 350,
   "metadata": {},
   "outputs": [],
   "source": [
    "import networkx as nx\n",
    "import numpy as np\n",
    "import matplotlib.pyplot as plt\n",
    "from sklearn.metrics.pairwise import cosine_similarity\n",
    "import time"
   ]
  },
  {
   "cell_type": "code",
   "execution_count": 351,
   "metadata": {},
   "outputs": [],
   "source": [
    "# Assumption: \n",
    "# 1) When a node is chosen its children are auto added, and if any of the children are the goal it ends\n",
    "# 2) There are never no edge nodes, always edges that have links left"
   ]
  },
  {
   "cell_type": "code",
   "execution_count": 352,
   "metadata": {},
   "outputs": [],
   "source": [
    "# Constants\n",
    "ignore_internal_nodes = True  # Whether to ignore the internal nodes when picking a new node to add to graph\n",
    "num_nodes = 2000\n",
    "max_ep_steps = 50\n",
    "prop_steps = 3\n",
    "num_eps = 1\n",
    "goal_node = num_nodes+1  # Actual node goal\n",
    "# there are three ways im testing, \n",
    "# 1)if i put it in the state update func\n",
    "# 2) if I send it in to the output i.e. after the update \n",
    "# 3) If i dont send in the goal and do a cos sim test between the output and the goal\n",
    "goal_opt = 2\n",
    "feat_size = 800\n",
    "fake_goal = np.random.uniform(0, 1, feat_size)  # Fake embedding\n",
    "hidden_size = feat_size\n",
    "goal_size = hidden_size"
   ]
  },
  {
   "cell_type": "code",
   "execution_count": 353,
   "metadata": {},
   "outputs": [],
   "source": [
    "node_dict = {}\n",
    "for i in range(num_nodes):\n",
    "    node_dict[i] = np.random.uniform(0, 1, feat_size)\n",
    "G = nx.cycle_graph(node_dict, nx.DiGraph())\n",
    "nx.set_node_attributes(G, node_dict, 'v')\n",
    "# nx.draw(G, with_labels=True)"
   ]
  },
  {
   "cell_type": "code",
   "execution_count": 354,
   "metadata": {},
   "outputs": [],
   "source": [
    "# Graph\n",
    "# feat_size = 3\n",
    "# G = nx.DiGraph()\n",
    "# A = np.array([3, 1, 2])\n",
    "# B = np.array([5, 3, 1])\n",
    "# C = np.array([2, 3, 1])\n",
    "# D = np.array([5, 7, 2])\n",
    "# E = np.array([6, 4, 6])\n",
    "# F = np.array([50,70, 45])\n",
    "# H = np.array([3, 1, 1])\n",
    "# G.add_node(0, v=A)\n",
    "# G.add_node(1, v=B)\n",
    "# G.add_node(2, v=C)\n",
    "# G.add_node(3, v=D)\n",
    "# G.add_node(4, v=E)\n",
    "# G.add_node(5, v=F)\n",
    "# G.add_node(6, v=H)\n",
    "# G.add_edges_from([(3, 4), (1, 0), (2, 1), (4, 3), (2, 4), (4, 0), (2, 3), (3, 0), (4, 1), (1, 4),\n",
    "#                   (4, 5), (5, 6), (3, 5), (0, 5)])"
   ]
  },
  {
   "cell_type": "code",
   "execution_count": 355,
   "metadata": {},
   "outputs": [],
   "source": [
    "# nx.draw(G, with_labels=True, font_weight='bold')\n",
    "# plt.show()"
   ]
  },
  {
   "cell_type": "code",
   "execution_count": 356,
   "metadata": {},
   "outputs": [],
   "source": [
    "# Out-Node and feat node dicts, for adding children\n",
    "out_node_dict = {}\n",
    "feat_node_dict = {}\n",
    "for node, data in G.nodes(data=True):\n",
    "    out_node_dict[node] = list(G.successors(node))\n",
    "    feat_node_dict[node] = data['v']\n",
    "# print(out_node_dict)\n",
    "# print(feat_node_dict)"
   ]
  },
  {
   "cell_type": "code",
   "execution_count": 357,
   "metadata": {},
   "outputs": [],
   "source": [
    "# Define message, aggregate, update and output functions (one each), appied in order to each node\n",
    "# Message: Takes an array (N_in, feats) (in-nodes) and applies the func\n",
    "def mF(X):\n",
    "    return X * 2  # Output: x.shape\n",
    "# Aggregate: Takes a array of func (N_in x length) (in-node messages) and aggregates which in this case is average \n",
    "def aF(X):\n",
    "    return np.mean(X, axis=0)  # Output: (N_in,)\n",
    "# Update opt 1: Takes an array (3, feat) which is the curr node feats, input goal and the aggregate\n",
    "# Update opt 2 and 3: Takes an array (2, feat) which is the curr node feats and the aggregate\n",
    "def uF(X):\n",
    "    if goal_opt == 1:\n",
    "        X = np.concatenate((fake_goal.reshape(1, -1), X), axis=0)\n",
    "    return np.sum(X, axis=0)\n",
    "# Output opt 1: Takes a vector (update for node) and applies func  \n",
    "# Output opt 2: Takes a an vector, update and stacks goal, applies func\n",
    "# Output opt 3: Takes a vector (update for node) and applies func\n",
    "def oF(X):\n",
    "    if goal_opt == 1:\n",
    "        return np.sum(X + 2.)  # Output: (1,)\n",
    "    elif goal_opt == 2:\n",
    "        X = np.stack((fake_goal, X))\n",
    "        return np.sum(np.mean(X, axis=0) + 2.)  # Output: (1,)\n",
    "    else:\n",
    "        return X + 2.  # Output: x.shape"
   ]
  },
  {
   "cell_type": "code",
   "execution_count": 358,
   "metadata": {},
   "outputs": [],
   "source": [
    "# Given a node, graph and out_node_dict and feat_dict return the graph with the childrne of the node added\n",
    "# Also return if goal reached\n",
    "def add_children(node, G, out_nodes, node_feat, goal_node):\n",
    "    achieved_goal = False\n",
    "    children = out_nodes[node]\n",
    "    children_vals = [node_feat[x] for x in children]\n",
    "    for child, val in zip(children, children_vals):\n",
    "        if child not in G:\n",
    "            G.add_node(child, v=val)\n",
    "            if child == goal_node:\n",
    "                achieved_goal = True\n",
    "        if not G.has_edge(node, child):  # the node might exist but not the edge\n",
    "            G.add_edge(node, child)\n",
    "    return achieved_goal"
   ]
  },
  {
   "cell_type": "code",
   "execution_count": 359,
   "metadata": {},
   "outputs": [],
   "source": [
    "# Pick a random node to start with\n",
    "# start_node = np.random.choice(list(G.node))\n",
    "start_node = 1\n",
    "start_node_v = G.nodes(data=True)[start_node]['v']\n",
    "G_init = nx.DiGraph()\n",
    "# Init. Graph is init node and its children\n",
    "G_init.add_node(start_node, v=start_node_v)\n",
    "got_goal = add_children(start_node, G_init, out_node_dict, feat_node_dict, goal_node)\n",
    "assert got_goal == False"
   ]
  },
  {
   "cell_type": "code",
   "execution_count": 360,
   "metadata": {},
   "outputs": [],
   "source": [
    "# nx.draw(G_init, with_labels=True, font_weight='bold')\n",
    "# plt.show()"
   ]
  },
  {
   "cell_type": "code",
   "execution_count": 361,
   "metadata": {},
   "outputs": [],
   "source": [
    "# For now this is -1 per timestep +5 on terminal for reaching goal, -5 on terminal for not reaching goal\n",
    "# In future, i want to give it feedback on how close it got by either:\n",
    "# 1) For all nodes (or edge nodes) calc the shortest distance to the goal and then pick the shortest and use that\n",
    "# 2) If (1) takes too long than instead embed all of the found nodes names and pick the one with the closest dist to\n",
    "# the goal embedding to use\n",
    "def reward_func(terminal, reach_goal):\n",
    "    rew = -1\n",
    "    if terminal:\n",
    "        rew += 5 if reach_goal else -5\n",
    "    return rew"
   ]
  },
  {
   "cell_type": "code",
   "execution_count": 362,
   "metadata": {},
   "outputs": [],
   "source": [
    "def cos_sim(a, b):\n",
    "    return cosine_similarity(a, b)[:, 0]"
   ]
  },
  {
   "cell_type": "code",
   "execution_count": 363,
   "metadata": {},
   "outputs": [],
   "source": [
    "def propogate(G_curr, last_prop):\n",
    "    outputs_dict = {}\n",
    "    # Propogate: goes through each node and applies the 4 funcs above, at same time to each node\n",
    "    # so don't update the graph that is being propogated\n",
    "    # ALso dont need to run output model unless its the las propogate\n",
    "    new_node_dict = {}\n",
    "    for node, data in G_curr.nodes(data=True):\n",
    "        curr_feat = data['v']\n",
    "        # Get predecessors\n",
    "        preds_feats = np.array([G_curr.nodes[n]['v'] for n in G_curr.predecessors(node)])\n",
    "        # Apply message, aggregate, update and output functions\n",
    "        if preds_feats.size != 0:  # Has preds\n",
    "            messages = mF(preds_feats)\n",
    "            aggregate = aF(messages)\n",
    "            stack = np.stack((curr_feat, aggregate))\n",
    "            update = uF(stack)\n",
    "        else:\n",
    "            update = uF(curr_feat.reshape(1, -1))\n",
    "        if last_prop:\n",
    "            output = oF(update)\n",
    "            outputs_dict[node] = output\n",
    "        new_node_dict[node] = update\n",
    "    return outputs_dict, new_node_dict"
   ]
  },
  {
   "cell_type": "code",
   "execution_count": 364,
   "metadata": {},
   "outputs": [],
   "source": [
    "# Action function (for now just greedy)\n",
    "def select_node(node_outputs, goal):\n",
    "    if goal_opt == 1 or goal_opt == 2:  # Then node outputs is a vector\n",
    "        return np.argmax(node_outputs)\n",
    "    else:  # o.w. it is of shape (N_nodes, output_len)\n",
    "        # Cos-sim\n",
    "        cos_sims = cos_sim(node_outputs, np.stack([goal] * node_outputs.shape[0]))  # vector\n",
    "#         print('cos sims: {}'.format(cos_sims))\n",
    "        return np.argmax(cos_sims)"
   ]
  },
  {
   "cell_type": "code",
   "execution_count": 365,
   "metadata": {},
   "outputs": [],
   "source": [
    "def run_episode(G_init):\n",
    "    G_curr = G_init.copy()\n",
    "    total_rew = 0\n",
    "    step_time = []\n",
    "    for step in range(max_ep_steps):\n",
    "        ts = time.time()\n",
    "#         print('--- Ep Step: {} ----'.format(step+1))\n",
    "        # Propgate\n",
    "        for p in range(prop_steps):\n",
    "#             print('- Prop step: {} -'.format(p+1))\n",
    "            outputs_dict, new_node_dict = propogate(G_curr, p == prop_steps - 1)\n",
    "#             print('outputs: {}'.format(outputs_dict))\n",
    "#             print('new node dict: {}'.format(new_node_dict))\n",
    "            nx.set_node_attributes(G_curr, new_node_dict, 'v')  # Update curr graph\n",
    "#             print('new greaph: {}'.format(G_curr.nodes(data=True)))\n",
    "        # Pick a node to add/go to if already exists and I allow it\n",
    "        if ignore_internal_nodes:\n",
    "#             print('ignoring internal')\n",
    "            # Get a list of the actual node indexes (the abs based on the overall graph)\n",
    "            edge_nodes = [n for n in G_curr.nodes if len(list(G_curr.successors(n))) == 0]\n",
    "        \n",
    "            # For now i can make the goal node not actually in the graph just to check speed\n",
    "            if len(edge_nodes) == 0:\n",
    "                break\n",
    "        \n",
    "#             print('edge nodes: {}'.format(edge_nodes))\n",
    "            # Get their outputs\n",
    "            outputs = [outputs_dict[x] for x in edge_nodes]\n",
    "            if goal_opt == 3:\n",
    "                outputs = np.stack(outputs)  # (num edge nodes x output size)\n",
    "                assert outputs.shape == (len(edge_nodes), goal_size)\n",
    "            else:\n",
    "                outputs = np.array(outputs)  # (num edge nodes,)\n",
    "#             print('selected outputs: {}'.format(outputs))\n",
    "            node_rel_indx = select_node(outputs, fake_goal)  # Rel to filtered nodes\n",
    "#             print('node rel index: {}'.format(node_rel_indx))\n",
    "            # Grab real node\n",
    "            chosen_node = edge_nodes[node_rel_indx]\n",
    "        else:\n",
    "            # Get list of nodes and outputs\n",
    "            nodes, outputs = [], []\n",
    "            for n, o in outputs_dict.items():\n",
    "                nodes.append(n)\n",
    "                outputs.append(o)\n",
    "#             print('nodes: {}  outputs: {}'.format(nodes, outputs))\n",
    "            outputs = np.array(outputs)  # (num nodes,)\n",
    "            node_rel_indx = select_node(outputs, fake_goal)\n",
    "#             print('node rel indx: {}'.format(node_rel_indx))\n",
    "            # Grab real node\n",
    "            chosen_node = nodes[node_rel_indx]\n",
    "#         print('chosen node: {}'.format(chosen_node))\n",
    "        # Add children (returns if any of the children were goal)\n",
    "        achieved_goal = add_children(chosen_node, G_curr, out_node_dict, feat_node_dict, goal_node)\n",
    "#         print('new cur graph: {}'.format(G_curr.nodes(data=True)))\n",
    "#         nx.draw(G_curr, with_labels=True, font_weight='bold')\n",
    "#         plt.show()\n",
    "        # Check if terminal (ends if any children are goal)\n",
    "        done = True if (step == max_ep_steps - 1) or achieved_goal else False\n",
    "#         print('done: {}  achievde goal: {}'.format(done, achieved_goal))\n",
    "        # Get reward\n",
    "        rew = reward_func(done, achieved_goal)\n",
    "#         print('rew: {}'.format(rew))\n",
    "        total_rew += rew\n",
    "        step_time.append(time.time() - ts)\n",
    "        # Break if done\n",
    "        if done:\n",
    "            break\n",
    "    return total_rew, step + 1, achieved_goal, G_curr, step_time"
   ]
  },
  {
   "cell_type": "code",
   "execution_count": 366,
   "metadata": {},
   "outputs": [
    {
     "name": "stdout",
     "output_type": "stream",
     "text": [
      "EPISODE TIME (s): 0.029824018478393555\n",
      "AVG STEP TIME (s): 0.000591740608215332\n",
      "Ep: 1  Reward: -55  Reached Goal: False  Num Steps: 50\n"
     ]
    }
   ],
   "source": [
    "t0 = time.time()\n",
    "for ep in range(num_eps):\n",
    "#     print('EP: {} --------------------'.format(ep+1))\n",
    "#     print('init graph: {}'.format(G_init.nodes(data=True)))\n",
    "    ep_rew, ep_step, got_goal, G_ep, step_time = run_episode(G_init)\n",
    "    print('EPISODE TIME (s): {}'.format(time.time() - t0))\n",
    "    print('AVG STEP TIME (s): {}'.format(np.array(step_time).mean()))\n",
    "    print('Ep: {}  Reward: {}  Reached Goal: {}  Num Steps: {}'.format(ep + 1, ep_rew, got_goal, ep_step))\n",
    "#     nx.draw(G_ep, with_labels=True, font_weight='bold')\n",
    "#     plt.show()"
   ]
  },
  {
   "cell_type": "code",
   "execution_count": null,
   "metadata": {},
   "outputs": [],
   "source": []
  }
 ],
 "metadata": {
  "kernelspec": {
   "display_name": "Python 3",
   "language": "python",
   "name": "python3"
  },
  "language_info": {
   "codemirror_mode": {
    "name": "ipython",
    "version": 3
   },
   "file_extension": ".py",
   "mimetype": "text/x-python",
   "name": "python",
   "nbconvert_exporter": "python",
   "pygments_lexer": "ipython3",
   "version": "3.7.3"
  }
 },
 "nbformat": 4,
 "nbformat_minor": 2
}
