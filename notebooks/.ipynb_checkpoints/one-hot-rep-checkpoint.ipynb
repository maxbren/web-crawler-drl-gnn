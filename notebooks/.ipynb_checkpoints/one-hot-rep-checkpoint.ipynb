{
 "cells": [
  {
   "cell_type": "code",
   "execution_count": 1,
   "metadata": {
    "collapsed": true
   },
   "outputs": [],
   "source": [
    "# Generate the oring of the one hot feats for each word in the title\n",
    "import re\n",
    "import pickle\n",
    "from collections import OrderedDict\n",
    "import numpy as np"
   ]
  },
  {
   "cell_type": "code",
   "execution_count": 2,
   "metadata": {
    "collapsed": true
   },
   "outputs": [],
   "source": [
    "class Page:\n",
    "    def __init__(self, text, links):\n",
    "        self.text = text\n",
    "        self.links = links  # out-links\n",
    "        self.in_links = []\n",
    "        self.indx = None  # Relative to the ordered dict below\n",
    "        self.feats = None\n",
    "        self.links_feats = None"
   ]
  },
  {
   "cell_type": "code",
   "execution_count": 4,
   "metadata": {},
   "outputs": [],
   "source": [
    "# Load the wiki-dict i want\n",
    "with open('../data/animals-D3-small-30K-nodes40-edges202-max10-minout2-minin3.pkl', 'rb') as f:\n",
    "    pages = pickle.load(f)\n",
    "pages = OrderedDict(pages)"
   ]
  },
  {
   "cell_type": "code",
   "execution_count": 5,
   "metadata": {
    "collapsed": true
   },
   "outputs": [],
   "source": [
    "replace_chars = lambda title: re.sub(r\"[()]\", '', title)"
   ]
  },
  {
   "cell_type": "code",
   "execution_count": 6,
   "metadata": {
    "collapsed": true
   },
   "outputs": [],
   "source": [
    "def create_dict(titles):\n",
    "    # Split each title into its words and ignore ()\n",
    "    words = set()\n",
    "    for title in titles:\n",
    "        title = replace_chars(title)\n",
    "        title_words = title.split()\n",
    "        words.update(title_words)\n",
    "    return words"
   ]
  },
  {
   "cell_type": "code",
   "execution_count": 7,
   "metadata": {
    "collapsed": true
   },
   "outputs": [],
   "source": [
    "titles = list(pages.keys())\n",
    "words_set = create_dict(titles)"
   ]
  },
  {
   "cell_type": "code",
   "execution_count": 8,
   "metadata": {
    "collapsed": true
   },
   "outputs": [],
   "source": [
    "def one_hot_encode(words_set):\n",
    "    num_words = len(words_set)\n",
    "    print('Dict length: {}'.format(num_words))\n",
    "    dic = {}\n",
    "    for i, word in enumerate(words_set):\n",
    "        encoding = np.zeros(shape=(num_words,), dtype=np.int)\n",
    "        encoding[i] = 1\n",
    "        dic[word] = encoding\n",
    "    return dic"
   ]
  },
  {
   "cell_type": "code",
   "execution_count": 9,
   "metadata": {},
   "outputs": [
    {
     "name": "stdout",
     "output_type": "stream",
     "text": [
      "Dict length: 42\n"
     ]
    }
   ],
   "source": [
    "encoding_dic = one_hot_encode(words_set)"
   ]
  },
  {
   "cell_type": "code",
   "execution_count": 10,
   "metadata": {
    "collapsed": true
   },
   "outputs": [],
   "source": [
    "def get_encoding(title, dic):\n",
    "    title_encode = np.zeros(shape=(len(dic,)), dtype=np.int)  # Init encode is all zeros since im oring\n",
    "    title_ = replace_chars(title)\n",
    "    title_words = title_.split()\n",
    "    for word in title_words:\n",
    "        word_encoding = dic[word]\n",
    "        title_encode = np.logical_or(title_encode, word_encoding, dtype=np.int).astype(np.int)\n",
    "    return title_encode"
   ]
  },
  {
   "cell_type": "code",
   "execution_count": 11,
   "metadata": {
    "collapsed": true
   },
   "outputs": [],
   "source": [
    "def add_node_feats(pages, dic):\n",
    "    for title, obj in list(pages.items()):\n",
    "        obj.feats = get_encoding(title, dic)"
   ]
  },
  {
   "cell_type": "code",
   "execution_count": 12,
   "metadata": {
    "collapsed": true
   },
   "outputs": [],
   "source": [
    "add_node_feats(pages, encoding_dic)"
   ]
  },
  {
   "cell_type": "code",
   "execution_count": 13,
   "metadata": {
    "collapsed": true
   },
   "outputs": [],
   "source": [
    "def add_edge_feats(pages, dic):\n",
    "    for title, obj in list(pages.items()):\n",
    "        edge_dic = {}\n",
    "        for link in obj.links:\n",
    "            edge_dic[link] = get_encoding(link, dic)\n",
    "        obj.links_feats = edge_dic"
   ]
  },
  {
   "cell_type": "code",
   "execution_count": 14,
   "metadata": {
    "collapsed": true
   },
   "outputs": [],
   "source": [
    "add_edge_feats(pages, encoding_dic)"
   ]
  },
  {
   "cell_type": "code",
   "execution_count": 18,
   "metadata": {},
   "outputs": [],
   "source": [
    "def print_encodings(dic):\n",
    "    for k, v in list(dic.items()):\n",
    "        print('{}: {}'.format(k, v))\n",
    "# print_encodings(encoding_dic)"
   ]
  },
  {
   "cell_type": "code",
   "execution_count": 25,
   "metadata": {},
   "outputs": [],
   "source": [
    "# for title, obj in list(pages.items()):\n",
    "#     for link in obj.links:\n",
    "#         print('{}: {}'.format(link, obj.links_feats[link]))"
   ]
  },
  {
   "cell_type": "code",
   "execution_count": 21,
   "metadata": {},
   "outputs": [],
   "source": [
    "# for title, obj in list(pages.items()):\n",
    "#     print('{}: {}'.format(title, obj.feats))"
   ]
  },
  {
   "cell_type": "code",
   "execution_count": 23,
   "metadata": {},
   "outputs": [],
   "source": [
    "with open('../data/animals-D3-small-30K-nodes40-edges202-max10-minout2-minin3_w_features.pkl', 'wb') as f:\n",
    "    pickle.dump(pages, f)"
   ]
  },
  {
   "cell_type": "code",
   "execution_count": null,
   "metadata": {
    "collapsed": true
   },
   "outputs": [],
   "source": []
  }
 ],
 "metadata": {
  "kernelspec": {
   "display_name": "Python 3",
   "language": "python",
   "name": "python3"
  },
  "language_info": {
   "codemirror_mode": {
    "name": "ipython",
    "version": 3
   },
   "file_extension": ".py",
   "mimetype": "text/x-python",
   "name": "python",
   "nbconvert_exporter": "python",
   "pygments_lexer": "ipython3",
   "version": "3.6.8"
  }
 },
 "nbformat": 4,
 "nbformat_minor": 2
}
