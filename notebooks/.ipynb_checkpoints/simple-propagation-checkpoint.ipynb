{
 "cells": [
  {
   "cell_type": "code",
   "execution_count": 8,
   "metadata": {},
   "outputs": [],
   "source": [
    "import networkx as nx\n",
    "import matplotlib.pyplot as plt\n",
    "import numpy as np"
   ]
  },
  {
   "cell_type": "code",
   "execution_count": 84,
   "metadata": {},
   "outputs": [],
   "source": [
    "# Make Directed Graph\n",
    "G = nx.DiGraph()"
   ]
  },
  {
   "cell_type": "code",
   "execution_count": 85,
   "metadata": {},
   "outputs": [],
   "source": [
    "# Add Nodes\n",
    "feat_size = 3\n",
    "A = np.array([3, 1, 2])\n",
    "B = np.array([5, 3, 1])\n",
    "C = np.array([2, 3, 1])\n",
    "D = np.array([5, 7, 2])\n",
    "E = np.array([6, 4, 6])\n",
    "G.add_node('A', v=A)\n",
    "G.add_node('B', v=B)\n",
    "G.add_node('C', v=C)\n",
    "G.add_node('D', v=D)\n",
    "G.add_node('E', v=E)"
   ]
  },
  {
   "cell_type": "code",
   "execution_count": 86,
   "metadata": {},
   "outputs": [],
   "source": [
    "G.add_edges_from([('A', 'D'), ('D', 'E'), ('B', 'A'), ('C', 'B'), ('E', 'D'), ('C', 'E'), ('E', 'A')])"
   ]
  },
  {
   "cell_type": "code",
   "execution_count": 87,
   "metadata": {},
   "outputs": [
    {
     "data": {
      "image/png": "[encoded data removed]",
      "text/plain": [
       "<Figure size 432x288 with 1 Axes>"
      ]
     },
     "metadata": {},
     "output_type": "display_data"
    }
   ],
   "source": [
    "nx.draw(G, with_labels=True, font_weight='bold')"
   ]
  },
  {
   "cell_type": "code",
   "execution_count": 107,
   "metadata": {},
   "outputs": [],
   "source": [
    "hdiden_size = feat_size\n",
    "# Define message, aggregate, update and output functions (one each), appied in order to each node\n",
    "# Message: Takes an array (N_in, feats) (in-nodes) and applies the func\n",
    "mF = lambda X: X * 2.  # Output: x.shape\n",
    "# Aggregate: Takes a array of func (N_in x length) (in-node messages) and aggregates which in this case is average\n",
    "aF = lambda X: np.mean(X, axis=0)  # Output: (N_in,)\n",
    "# Update: Takes an array (2, feat) or (1, feat) which is the curr node feats and the aggregate\n",
    "uF = lambda X: np.sum(X, axis=0)\n",
    "# Output: Takes a vector (update for node) and applies func\n",
    "oF = lambda x: x + 2.  # Output: x.shape"
   ]
  },
  {
   "cell_type": "code",
   "execution_count": 110,
   "metadata": {},
   "outputs": [],
   "source": [
    "# Propogate: (Ignore input) goes through each node and applies the 4 funcs above, at same time to each node\n",
    "# so don't update the graph that is being propogated\n",
    "new_node_dict = {}\n",
    "for node, data in G.nodes(data=True):\n",
    "    curr_feat = data['v']\n",
    "    # Get predecessors\n",
    "    preds_feats = np.array([G.nodes[n]['v'] for n in G.predecessors(node)])\n",
    "    # Apply message, aggregate, update and output functions\n",
    "    if preds_feats.size != 0:  # Has preds\n",
    "        messages = mF(preds_feats)\n",
    "        aggregate = aF(messages)\n",
    "        stack = np.stack((curr_feat, aggregate))\n",
    "        update = uF(stack)\n",
    "    else:\n",
    "        update = uF(curr_feat.reshape(1, -1))\n",
    "    output = oF(update)\n",
    "    new_node_dict[node] = output"
   ]
  },
  {
   "cell_type": "code",
   "execution_count": 111,
   "metadata": {},
   "outputs": [
    {
     "data": {
      "text/plain": [
       "{'A': array([16., 10., 11.]),\n",
       " 'B': array([11., 11.,  5.]),\n",
       " 'C': array([4., 5., 3.]),\n",
       " 'D': array([16., 14., 12.]),\n",
       " 'E': array([15., 16., 11.])}"
      ]
     },
     "execution_count": 111,
     "metadata": {},
     "output_type": "execute_result"
    }
   ],
   "source": [
    "new_node_dict"
   ]
  },
  {
   "cell_type": "code",
   "execution_count": 117,
   "metadata": {},
   "outputs": [],
   "source": [
    "# Update graph (or make new in this case)\n",
    "G_2 = G.copy()\n",
    "nx.set_node_attributes(G_2, new_node_dict, 'v')"
   ]
  }
 ],
 "metadata": {
  "kernelspec": {
   "display_name": "Python 3",
   "language": "python",
   "name": "python3"
  },
  "language_info": {
   "codemirror_mode": {
    "name": "ipython",
    "version": 3
   },
   "file_extension": ".py",
   "mimetype": "text/x-python",
   "name": "python",
   "nbconvert_exporter": "python",
   "pygments_lexer": "ipython3",
   "version": "3.7.3"
  }
 },
 "nbformat": 4,
 "nbformat_minor": 2
}
