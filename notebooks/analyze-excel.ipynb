{
 "cells": [
  {
   "cell_type": "code",
   "execution_count": 1,
   "metadata": {
    "collapsed": true
   },
   "outputs": [],
   "source": [
    "import pandas as pd"
   ]
  },
  {
   "cell_type": "code",
   "execution_count": 2,
   "metadata": {
    "collapsed": true
   },
   "outputs": [],
   "source": [
    "data = pd.read_excel('../run-data.xlsx')"
   ]
  },
  {
   "cell_type": "code",
   "execution_count": 3,
   "metadata": {},
   "outputs": [
    {
     "data": {
      "text/plain": [
       "(30, 42)"
      ]
     },
     "execution_count": 3,
     "metadata": {},
     "output_type": "execute_result"
    }
   ],
   "source": [
    "data.shape"
   ]
  },
  {
   "cell_type": "code",
   "execution_count": 4,
   "metadata": {
    "collapsed": true
   },
   "outputs": [],
   "source": [
    "# data.drop(len(data)-1, inplace=True)"
   ]
  },
  {
   "cell_type": "code",
   "execution_count": 5,
   "metadata": {
    "collapsed": true
   },
   "outputs": [],
   "source": [
    "# data.to_excel('../run-data.xlsx', index=False)"
   ]
  },
  {
   "cell_type": "code",
   "execution_count": 11,
   "metadata": {},
   "outputs": [
    {
     "data": {
      "text/html": [
       "<div>\n",
       "<style scoped>\n",
       "    .dataframe tbody tr th:only-of-type {\n",
       "        vertical-align: middle;\n",
       "    }\n",
       "\n",
       "    .dataframe tbody tr th {\n",
       "        vertical-align: top;\n",
       "    }\n",
       "\n",
       "    .dataframe thead th {\n",
       "        text-align: right;\n",
       "    }\n",
       "</style>\n",
       "<table border=\"1\" class=\"dataframe\">\n",
       "  <thead>\n",
       "    <tr style=\"text-align: right;\">\n",
       "      <th></th>\n",
       "      <th>total_time_taken(m)</th>\n",
       "      <th>eval_ach_goal_perc</th>\n",
       "      <th>eval_avg_opt_steps</th>\n",
       "      <th>eval_avg_steps_taken</th>\n",
       "      <th>E_num_train_rollouts</th>\n",
       "      <th>E_rollout_length</th>\n",
       "      <th>E_eval_freq</th>\n",
       "      <th>E_eval_num_eps</th>\n",
       "      <th>E_max_ep_steps</th>\n",
       "      <th>E_ignore_internal_nodes</th>\n",
       "      <th>...</th>\n",
       "      <th>A_clip_grads</th>\n",
       "      <th>A_gradient_clip</th>\n",
       "      <th>A_value_loss_coef</th>\n",
       "      <th>A_critic_agg_weight</th>\n",
       "      <th>A_combined_actor_critic</th>\n",
       "      <th>O_num_agents</th>\n",
       "      <th>O_reach_goal_rew</th>\n",
       "      <th>O_not_reach_goal_rew</th>\n",
       "      <th>O_node_feat_type</th>\n",
       "      <th>O_data</th>\n",
       "    </tr>\n",
       "  </thead>\n",
       "  <tbody>\n",
       "    <tr>\n",
       "      <th>0</th>\n",
       "      <td>5.505181</td>\n",
       "      <td>0.545455</td>\n",
       "      <td>3.55</td>\n",
       "      <td>5.94</td>\n",
       "      <td>500</td>\n",
       "      <td>128</td>\n",
       "      <td>50</td>\n",
       "      <td>100</td>\n",
       "      <td>8</td>\n",
       "      <td>False</td>\n",
       "      <td>...</td>\n",
       "      <td>True</td>\n",
       "      <td>1</td>\n",
       "      <td>1</td>\n",
       "      <td>0.75</td>\n",
       "      <td>False</td>\n",
       "      <td>8</td>\n",
       "      <td>5</td>\n",
       "      <td>-5</td>\n",
       "      <td>1</td>\n",
       "      <td>toy2</td>\n",
       "    </tr>\n",
       "    <tr>\n",
       "      <th>1</th>\n",
       "      <td>5.270426</td>\n",
       "      <td>0.949495</td>\n",
       "      <td>3.65</td>\n",
       "      <td>4.75</td>\n",
       "      <td>500</td>\n",
       "      <td>128</td>\n",
       "      <td>50</td>\n",
       "      <td>100</td>\n",
       "      <td>8</td>\n",
       "      <td>False</td>\n",
       "      <td>...</td>\n",
       "      <td>True</td>\n",
       "      <td>1</td>\n",
       "      <td>1</td>\n",
       "      <td>0.75</td>\n",
       "      <td>False</td>\n",
       "      <td>8</td>\n",
       "      <td>5</td>\n",
       "      <td>-5</td>\n",
       "      <td>1</td>\n",
       "      <td>toy2</td>\n",
       "    </tr>\n",
       "    <tr>\n",
       "      <th>2</th>\n",
       "      <td>5.389242</td>\n",
       "      <td>0.929293</td>\n",
       "      <td>3.56</td>\n",
       "      <td>4.51</td>\n",
       "      <td>500</td>\n",
       "      <td>128</td>\n",
       "      <td>50</td>\n",
       "      <td>100</td>\n",
       "      <td>8</td>\n",
       "      <td>False</td>\n",
       "      <td>...</td>\n",
       "      <td>True</td>\n",
       "      <td>1</td>\n",
       "      <td>1</td>\n",
       "      <td>0.75</td>\n",
       "      <td>False</td>\n",
       "      <td>8</td>\n",
       "      <td>5</td>\n",
       "      <td>-5</td>\n",
       "      <td>1</td>\n",
       "      <td>toy2</td>\n",
       "    </tr>\n",
       "    <tr>\n",
       "      <th>3</th>\n",
       "      <td>5.407825</td>\n",
       "      <td>0.404040</td>\n",
       "      <td>3.61</td>\n",
       "      <td>6.60</td>\n",
       "      <td>500</td>\n",
       "      <td>128</td>\n",
       "      <td>50</td>\n",
       "      <td>100</td>\n",
       "      <td>8</td>\n",
       "      <td>False</td>\n",
       "      <td>...</td>\n",
       "      <td>True</td>\n",
       "      <td>1</td>\n",
       "      <td>1</td>\n",
       "      <td>0.75</td>\n",
       "      <td>False</td>\n",
       "      <td>8</td>\n",
       "      <td>5</td>\n",
       "      <td>-5</td>\n",
       "      <td>1</td>\n",
       "      <td>toy2</td>\n",
       "    </tr>\n",
       "    <tr>\n",
       "      <th>4</th>\n",
       "      <td>5.081066</td>\n",
       "      <td>0.929293</td>\n",
       "      <td>3.70</td>\n",
       "      <td>4.60</td>\n",
       "      <td>500</td>\n",
       "      <td>128</td>\n",
       "      <td>50</td>\n",
       "      <td>100</td>\n",
       "      <td>8</td>\n",
       "      <td>False</td>\n",
       "      <td>...</td>\n",
       "      <td>True</td>\n",
       "      <td>1</td>\n",
       "      <td>1</td>\n",
       "      <td>0.75</td>\n",
       "      <td>False</td>\n",
       "      <td>8</td>\n",
       "      <td>5</td>\n",
       "      <td>-5</td>\n",
       "      <td>1</td>\n",
       "      <td>toy2</td>\n",
       "    </tr>\n",
       "  </tbody>\n",
       "</table>\n",
       "<p>5 rows × 42 columns</p>\n",
       "</div>"
      ],
      "text/plain": [
       "   total_time_taken(m)  eval_ach_goal_perc  eval_avg_opt_steps  \\\n",
       "0             5.505181            0.545455                3.55   \n",
       "1             5.270426            0.949495                3.65   \n",
       "2             5.389242            0.929293                3.56   \n",
       "3             5.407825            0.404040                3.61   \n",
       "4             5.081066            0.929293                3.70   \n",
       "\n",
       "   eval_avg_steps_taken  E_num_train_rollouts  E_rollout_length  E_eval_freq  \\\n",
       "0                  5.94                   500               128           50   \n",
       "1                  4.75                   500               128           50   \n",
       "2                  4.51                   500               128           50   \n",
       "3                  6.60                   500               128           50   \n",
       "4                  4.60                   500               128           50   \n",
       "\n",
       "   E_eval_num_eps  E_max_ep_steps  E_ignore_internal_nodes  ...  A_clip_grads  \\\n",
       "0             100               8                    False  ...          True   \n",
       "1             100               8                    False  ...          True   \n",
       "2             100               8                    False  ...          True   \n",
       "3             100               8                    False  ...          True   \n",
       "4             100               8                    False  ...          True   \n",
       "\n",
       "   A_gradient_clip  A_value_loss_coef A_critic_agg_weight  \\\n",
       "0                1                  1                0.75   \n",
       "1                1                  1                0.75   \n",
       "2                1                  1                0.75   \n",
       "3                1                  1                0.75   \n",
       "4                1                  1                0.75   \n",
       "\n",
       "   A_combined_actor_critic  O_num_agents  O_reach_goal_rew  \\\n",
       "0                    False             8                 5   \n",
       "1                    False             8                 5   \n",
       "2                    False             8                 5   \n",
       "3                    False             8                 5   \n",
       "4                    False             8                 5   \n",
       "\n",
       "   O_not_reach_goal_rew  O_node_feat_type  O_data  \n",
       "0                    -5                 1    toy2  \n",
       "1                    -5                 1    toy2  \n",
       "2                    -5                 1    toy2  \n",
       "3                    -5                 1    toy2  \n",
       "4                    -5                 1    toy2  \n",
       "\n",
       "[5 rows x 42 columns]"
      ]
     },
     "execution_count": 11,
     "metadata": {},
     "output_type": "execute_result"
    }
   ],
   "source": [
    "data.head()"
   ]
  },
  {
   "cell_type": "markdown",
   "metadata": {},
   "source": [
    "### Preliminary conclusions:\n",
    "- goal_opt == 2 performs better (probably)\n",
    "- learning_rate == 1e-3 performs much better than the other two\n",
    "- value_loss_coef == 1.0 performs better (probably)\n",
    "- critic_agg_Weight == anything lol\n",
    "- num_props == 1 is much better\n",
    "- minibatch_size == 16 or 32, but 32 is faster\n",
    "- node_hidden_size == 32\n",
    "- message_size == 32\n",
    "- rollout_length == 256 (or more) for performance, but 128 for faster\n",
    "- optimization_epochs == 10\n",
    "- node_feat_type == 1 slightly better than 0\n",
    "- reach_goal_rew == 5 \n",
    "- not_reach_goal_rew == -5 \n",
    "- gae_tau == 0.9 (try lower)\n",
    "- entropy_weight == 0.01\n",
    "- ppo_ratio_clip == 0.3 (try higher)\n",
    "- discount == 0.95 (try lower)\n",
    "- critic addition 16 layer\n",
    "- actor additional 16 layer\n",
    "- nervenet:\n",
    "    - node hdden size = 64\n",
    "    - message size = 16\n",
    "- deepmind:\n",
    "    - node hidden size = 64\n",
    "    - edge hidden size = 64 or 16 or 32\n",
    "- FC\n",
    "    - node hidden size = 64\n",
    "    - message size = 32 or 16 or 64\n",
    "- No struc\n",
    "    - node hidden size = 64"
   ]
  },
  {
   "cell_type": "code",
   "execution_count": 9,
   "metadata": {},
   "outputs": [
    {
     "name": "stderr",
     "output_type": "stream",
     "text": [
      "C:\\Users\\Max Brenner\\Anaconda3\\lib\\site-packages\\pandas\\core\\ops.py:1649: FutureWarning: elementwise comparison failed; returning scalar instead, but in the future will perform elementwise comparison\n",
      "  result = method(y)\n"
     ]
    },
    {
     "data": {
      "text/plain": [
       "nan"
      ]
     },
     "execution_count": 9,
     "metadata": {},
     "output_type": "execute_result"
    }
   ],
   "source": [
    "data[data['A_gae_tau'] == 'fully_connected']['total_time_taken(m)'].mean()"
   ]
  },
  {
   "cell_type": "code",
   "execution_count": 7,
   "metadata": {
    "scrolled": false
   },
   "outputs": [
    {
     "name": "stderr",
     "output_type": "stream",
     "text": [
      "C:\\Users\\Max Brenner\\Anaconda3\\lib\\site-packages\\pandas\\core\\ops.py:1649: FutureWarning: elementwise comparison failed; returning scalar instead, but in the future will perform elementwise comparison\n",
      "  result = method(y)\n"
     ]
    },
    {
     "data": {
      "text/plain": [
       "nan"
      ]
     },
     "execution_count": 7,
     "metadata": {},
     "output_type": "execute_result"
    }
   ],
   "source": [
    "data[data['O_reach_goal_rew'] == \"deepmind\"]['eval_avg_steps_taken'].mean()"
   ]
  },
  {
   "cell_type": "code",
   "execution_count": 5,
   "metadata": {},
   "outputs": [
    {
     "data": {
      "text/plain": [
       "9.964000000000002"
      ]
     },
     "execution_count": 5,
     "metadata": {},
     "output_type": "execute_result"
    }
   ],
   "source": [
    "data[data['A_learning_rate'] == 0.01]['eval_avg_steps_taken'].mean()"
   ]
  },
  {
   "cell_type": "code",
   "execution_count": 6,
   "metadata": {},
   "outputs": [
    {
     "data": {
      "text/plain": [
       "9.556999999999999"
      ]
     },
     "execution_count": 6,
     "metadata": {},
     "output_type": "execute_result"
    }
   ],
   "source": [
    "data[data['A_learning_rate'] == 0.001]['eval_avg_steps_taken'].mean()"
   ]
  },
  {
   "cell_type": "code",
   "execution_count": 7,
   "metadata": {},
   "outputs": [
    {
     "data": {
      "text/plain": [
       "9.587"
      ]
     },
     "execution_count": 7,
     "metadata": {},
     "output_type": "execute_result"
    }
   ],
   "source": [
    "data[data['A_learning_rate'] == 0.0001]['eval_avg_steps_taken'].mean()"
   ]
  },
  {
   "cell_type": "code",
   "execution_count": 7,
   "metadata": {},
   "outputs": [
    {
     "data": {
      "text/plain": [
       "7.514"
      ]
     },
     "execution_count": 7,
     "metadata": {},
     "output_type": "execute_result"
    }
   ],
   "source": [
    "data[data['M_model_type'] == \"no_structure\"]['eval_avg_steps_taken'].mean()"
   ]
  },
  {
   "cell_type": "code",
   "execution_count": 4,
   "metadata": {
    "collapsed": true
   },
   "outputs": [],
   "source": [
    "df1 = data.iloc[:20, :]\n",
    "df2 = data.iloc[20:40, :]\n",
    "df3 = data.iloc[40:60, :]"
   ]
  },
  {
   "cell_type": "code",
   "execution_count": 6,
   "metadata": {},
   "outputs": [
    {
     "data": {
      "text/plain": [
       "5.454"
      ]
     },
     "execution_count": 6,
     "metadata": {},
     "output_type": "execute_result"
    }
   ],
   "source": [
    "df1[df1['M_model_type'] == \"deepmind\"]['eval_avg_steps_taken'].mean()"
   ]
  },
  {
   "cell_type": "code",
   "execution_count": 7,
   "metadata": {},
   "outputs": [
    {
     "data": {
      "text/plain": [
       "5.871999999999999"
      ]
     },
     "execution_count": 7,
     "metadata": {},
     "output_type": "execute_result"
    }
   ],
   "source": [
    "df1[df1['M_model_type'] == \"nervenet\"]['eval_avg_steps_taken'].mean()"
   ]
  },
  {
   "cell_type": "code",
   "execution_count": 8,
   "metadata": {},
   "outputs": [
    {
     "data": {
      "text/plain": [
       "5.286"
      ]
     },
     "execution_count": 8,
     "metadata": {},
     "output_type": "execute_result"
    }
   ],
   "source": [
    "df1[df1['M_model_type'] == \"fully_connected\"]['eval_avg_steps_taken'].mean()"
   ]
  },
  {
   "cell_type": "code",
   "execution_count": 9,
   "metadata": {},
   "outputs": [
    {
     "data": {
      "text/plain": [
       "4.99"
      ]
     },
     "execution_count": 9,
     "metadata": {},
     "output_type": "execute_result"
    }
   ],
   "source": [
    "df1[df1['M_model_type'] == \"no_structure\"]['eval_avg_steps_taken'].mean()"
   ]
  },
  {
   "cell_type": "code",
   "execution_count": null,
   "metadata": {
    "collapsed": true
   },
   "outputs": [],
   "source": []
  },
  {
   "cell_type": "code",
   "execution_count": 10,
   "metadata": {},
   "outputs": [
    {
     "data": {
      "text/plain": [
       "6.909999999999999"
      ]
     },
     "execution_count": 10,
     "metadata": {},
     "output_type": "execute_result"
    }
   ],
   "source": [
    "df2[df2['M_model_type'] == \"deepmind\"]['eval_avg_steps_taken'].mean()"
   ]
  },
  {
   "cell_type": "code",
   "execution_count": 11,
   "metadata": {},
   "outputs": [
    {
     "data": {
      "text/plain": [
       "6.774000000000001"
      ]
     },
     "execution_count": 11,
     "metadata": {},
     "output_type": "execute_result"
    }
   ],
   "source": [
    "df2[df2['M_model_type'] == \"nervenet\"]['eval_avg_steps_taken'].mean()"
   ]
  },
  {
   "cell_type": "code",
   "execution_count": 12,
   "metadata": {},
   "outputs": [
    {
     "data": {
      "text/plain": [
       "6.764000000000001"
      ]
     },
     "execution_count": 12,
     "metadata": {},
     "output_type": "execute_result"
    }
   ],
   "source": [
    "df2[df2['M_model_type'] == \"fully_connected\"]['eval_avg_steps_taken'].mean()"
   ]
  },
  {
   "cell_type": "code",
   "execution_count": 13,
   "metadata": {},
   "outputs": [
    {
     "data": {
      "text/plain": [
       "7.0120000000000005"
      ]
     },
     "execution_count": 13,
     "metadata": {},
     "output_type": "execute_result"
    }
   ],
   "source": [
    "df2[df2['M_model_type'] == \"no_structure\"]['eval_avg_steps_taken'].mean()"
   ]
  },
  {
   "cell_type": "code",
   "execution_count": null,
   "metadata": {
    "collapsed": true
   },
   "outputs": [],
   "source": []
  },
  {
   "cell_type": "code",
   "execution_count": 14,
   "metadata": {},
   "outputs": [
    {
     "data": {
      "text/plain": [
       "5.5200000000000005"
      ]
     },
     "execution_count": 14,
     "metadata": {},
     "output_type": "execute_result"
    }
   ],
   "source": [
    "df3[df3['M_model_type'] == \"deepmind\"]['eval_avg_steps_taken'].mean()"
   ]
  },
  {
   "cell_type": "code",
   "execution_count": 15,
   "metadata": {},
   "outputs": [
    {
     "data": {
      "text/plain": [
       "5.262"
      ]
     },
     "execution_count": 15,
     "metadata": {},
     "output_type": "execute_result"
    }
   ],
   "source": [
    "df3[df3['M_model_type'] == \"nervenet\"]['eval_avg_steps_taken'].mean()"
   ]
  },
  {
   "cell_type": "code",
   "execution_count": 16,
   "metadata": {},
   "outputs": [
    {
     "data": {
      "text/plain": [
       "5.256"
      ]
     },
     "execution_count": 16,
     "metadata": {},
     "output_type": "execute_result"
    }
   ],
   "source": [
    "df3[df3['M_model_type'] == \"fully_connected\"]['eval_avg_steps_taken'].mean()"
   ]
  },
  {
   "cell_type": "code",
   "execution_count": 17,
   "metadata": {},
   "outputs": [
    {
     "data": {
      "text/plain": [
       "4.396"
      ]
     },
     "execution_count": 17,
     "metadata": {},
     "output_type": "execute_result"
    }
   ],
   "source": [
    "df3[df3['M_model_type'] == \"no_structure\"]['eval_avg_steps_taken'].mean()"
   ]
  },
  {
   "cell_type": "code",
   "execution_count": null,
   "metadata": {
    "collapsed": true
   },
   "outputs": [],
   "source": []
  }
 ],
 "metadata": {
  "kernelspec": {
   "display_name": "Python 3",
   "language": "python",
   "name": "python3"
  },
  "language_info": {
   "codemirror_mode": {
    "name": "ipython",
    "version": 3
   },
   "file_extension": ".py",
   "mimetype": "text/x-python",
   "name": "python",
   "nbconvert_exporter": "python",
   "pygments_lexer": "ipython3",
   "version": "3.6.8"
  }
 },
 "nbformat": 4,
 "nbformat_minor": 2
}
