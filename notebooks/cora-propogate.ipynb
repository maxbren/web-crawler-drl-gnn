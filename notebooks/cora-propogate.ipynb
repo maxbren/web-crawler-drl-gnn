{
 "cells": [
  {
   "cell_type": "code",
   "execution_count": 1,
   "metadata": {
    "collapsed": true
   },
   "outputs": [],
   "source": [
    "# Propogate test with cora (to make sure it works)"
   ]
  },
  {
   "cell_type": "code",
   "execution_count": 5,
   "metadata": {
    "collapsed": true
   },
   "outputs": [],
   "source": [
    "import networkx as nx\n",
    "import matplotlib.pyplot as plt\n",
    "import numpy as np\n",
    "import torch.nn as nn"
   ]
  },
  {
   "cell_type": "code",
   "execution_count": 6,
   "metadata": {
    "collapsed": true
   },
   "outputs": [],
   "source": [
    "N = ...  # Num nodes\n",
    "f = ...  # Num input feats\n",
    "h = 32  # Hidden state for node size\n",
    "m = 32  # Message size\n",
    "num_class = 8\n",
    "o = num_class  # Output size\n",
    "avg_func = lambda X: X.mean(axis=0)\n",
    "num_props = 3\n",
    "num_epochs = 1"
   ]
  },
  {
   "cell_type": "markdown",
   "metadata": {},
   "source": [
    "Input I need:\n",
    "1. The graph (cora is undirected so I will just make each edge a 2-way) in networkx\n",
    "2. predecessors list since this is a static graph and i need it for the aggregate\n",
    "3. N x h that is updated every prop because its a static graph so this is faster"
   ]
  },
  {
   "cell_type": "code",
   "execution_count": 7,
   "metadata": {
    "collapsed": true
   },
   "outputs": [],
   "source": [
    "# Make graph"
   ]
  },
  {
   "cell_type": "code",
   "execution_count": 8,
   "metadata": {},
   "outputs": [
    {
     "ename": "TypeError",
     "evalue": "'ellipsis' object cannot be interpreted as an integer",
     "output_type": "error",
     "traceback": [
      "\u001b[1;31m---------------------------------------------------------------------------\u001b[0m",
      "\u001b[1;31mTypeError\u001b[0m                                 Traceback (most recent call last)",
      "\u001b[1;32m<ipython-input-8-d1028cda8b82>\u001b[0m in \u001b[0;36m<module>\u001b[1;34m()\u001b[0m\n\u001b[0;32m      1\u001b[0m \u001b[1;31m# Make numpy matrix of N x f\u001b[0m\u001b[1;33m\u001b[0m\u001b[1;33m\u001b[0m\u001b[1;33m\u001b[0m\u001b[0m\n\u001b[1;32m----> 2\u001b[1;33m \u001b[0mnode_feats\u001b[0m \u001b[1;33m=\u001b[0m \u001b[0mnp\u001b[0m\u001b[1;33m.\u001b[0m\u001b[0mzeros\u001b[0m\u001b[1;33m(\u001b[0m\u001b[0mshape\u001b[0m\u001b[1;33m=\u001b[0m\u001b[1;33m(\u001b[0m\u001b[0mN\u001b[0m\u001b[1;33m,\u001b[0m \u001b[0mf\u001b[0m\u001b[1;33m)\u001b[0m\u001b[1;33m)\u001b[0m\u001b[1;33m\u001b[0m\u001b[1;33m\u001b[0m\u001b[0m\n\u001b[0m",
      "\u001b[1;31mTypeError\u001b[0m: 'ellipsis' object cannot be interpreted as an integer"
     ]
    }
   ],
   "source": [
    "# Make numpy matrix of N x f\n",
    "node_feats = np.zeros(shape=(N, f))"
   ]
  },
  {
   "cell_type": "code",
   "execution_count": 9,
   "metadata": {},
   "outputs": [
    {
     "ename": "NameError",
     "evalue": "name 'G' is not defined",
     "output_type": "error",
     "traceback": [
      "\u001b[1;31m---------------------------------------------------------------------------\u001b[0m",
      "\u001b[1;31mNameError\u001b[0m                                 Traceback (most recent call last)",
      "\u001b[1;32m<ipython-input-9-57caf33dc000>\u001b[0m in \u001b[0;36m<module>\u001b[1;34m()\u001b[0m\n\u001b[0;32m      1\u001b[0m \u001b[0mpredecessors\u001b[0m \u001b[1;33m=\u001b[0m \u001b[1;33m[\u001b[0m\u001b[1;33m]\u001b[0m\u001b[1;33m\u001b[0m\u001b[1;33m\u001b[0m\u001b[0m\n\u001b[1;32m----> 2\u001b[1;33m \u001b[1;32mfor\u001b[0m \u001b[0mnode\u001b[0m \u001b[1;32min\u001b[0m \u001b[0mG\u001b[0m\u001b[1;33m.\u001b[0m\u001b[0mnodes\u001b[0m\u001b[1;33m:\u001b[0m\u001b[1;33m\u001b[0m\u001b[1;33m\u001b[0m\u001b[0m\n\u001b[0m\u001b[0;32m      3\u001b[0m     \u001b[0mpredecessors\u001b[0m\u001b[1;33m.\u001b[0m\u001b[0mappend\u001b[0m\u001b[1;33m(\u001b[0m\u001b[0mlist\u001b[0m\u001b[1;33m(\u001b[0m\u001b[0mG\u001b[0m\u001b[1;33m.\u001b[0m\u001b[0mpredecessors\u001b[0m\u001b[1;33m(\u001b[0m\u001b[0mnode\u001b[0m\u001b[1;33m)\u001b[0m\u001b[1;33m)\u001b[0m\u001b[1;33m)\u001b[0m\u001b[1;33m\u001b[0m\u001b[1;33m\u001b[0m\u001b[0m\n\u001b[0;32m      4\u001b[0m \u001b[1;32massert\u001b[0m \u001b[0mlen\u001b[0m\u001b[1;33m(\u001b[0m\u001b[0mpredecessors\u001b[0m\u001b[1;33m)\u001b[0m \u001b[1;33m==\u001b[0m \u001b[0mN\u001b[0m\u001b[1;33m\u001b[0m\u001b[1;33m\u001b[0m\u001b[0m\n",
      "\u001b[1;31mNameError\u001b[0m: name 'G' is not defined"
     ]
    }
   ],
   "source": [
    "predecessors = []\n",
    "for node in G.nodes:\n",
    "    predecessors.append(list(G.predecessors(node)))\n",
    "assert len(predecessors) == N"
   ]
  },
  {
   "cell_type": "code",
   "execution_count": 10,
   "metadata": {
    "collapsed": true
   },
   "outputs": [],
   "source": [
    "# Input: (N x h) which is all nodes hidden states\n",
    "# Outut: (N x m) all nodes messages\n",
    "class MessageModel:\n",
    "    def __init__(self):\n",
    "        self.model = self._make_model()\n",
    "        \n",
    "    def _make_model(self):\n",
    "        input_layer = Input(shape=(h,))\n",
    "        output_layer = Dense(m, activation='relu')(input_layer)\n",
    "        model = Model(input_layer, output_layer)\n",
    "        return model\n",
    "    \n",
    "    def get_messages(self, nodes):\n",
    "        assert nodes.shape == (N, h)\n",
    "        messages = self.model.predict(nodes)\n",
    "        assert messages.shape == (N, m)\n",
    "        return messages"
   ]
  },
  {
   "cell_type": "code",
   "execution_count": 11,
   "metadata": {
    "collapsed": true
   },
   "outputs": [],
   "source": [
    "# Input: (N x m) messages\n",
    "# Output: (N x m)  aggregated messages\n",
    "def aggregate(predecessors, messages, agg_func=avg_func):\n",
    "    agg = []\n",
    "    # Collect all in predecessors for each node, if a node has no preds then just 0s for it\n",
    "    for preds in predecessors:\n",
    "        if len(preds) > 0:\n",
    "            in_mess = messages[preds, :]\n",
    "            assert in_mess.shape == (len(preds), m) or in_mess.shape == (m,)  # if one in-node\n",
    "            agg_in_mess = agg_func(in_mess)\n",
    "            assert agg_in_mess.shape == (m,)\n",
    "            agg.append(agg_in_mess)\n",
    "        else:\n",
    "            agg.append(np.zeros(shape=(m,)))\n",
    "    # Stack\n",
    "    stacked = np.stack(agg)\n",
    "    assert stacked.shape == (N, m)\n",
    "    return stacked"
   ]
  },
  {
   "cell_type": "code",
   "execution_count": 12,
   "metadata": {
    "collapsed": true
   },
   "outputs": [],
   "source": [
    "# Input: (N, m) agg messages\n",
    "# Output: (N, h) new hidden states for nodes\n",
    "class UpdateModel:\n",
    "    def __init__(self):\n",
    "        self.model = self._make_model()\n",
    "        \n",
    "    def _make_model(self):\n",
    "        input_layer = Input(shape=(m,))\n",
    "        output_layer = Dense(h, activation='relu')(input_layer)\n",
    "        model = Model(input_layer, output_layer)\n",
    "        return model\n",
    "    \n",
    "    def get_updates(self, messages):\n",
    "        assert messages.shape == (N, m)\n",
    "        updates = self.model.predict(messages)\n",
    "        assert updates.shape == (N, h)\n",
    "        return updates"
   ]
  },
  {
   "cell_type": "code",
   "execution_count": 13,
   "metadata": {
    "collapsed": true
   },
   "outputs": [],
   "source": [
    "# Input: (N, h)  updated node hidden states\n",
    "# Output: (N, o)  outputs for each node (softmax on classes)\n",
    "class OutputModel:\n",
    "    def __init__(self):\n",
    "        self.model = self._make_model()\n",
    "    \n",
    "    def _make_model(self):\n",
    "        input_layer = Input(shape=(h,))\n",
    "        output_layer = Dense(o, activation='softmax')(input_layer)\n",
    "        model = Model(input_layer, output_layer)\n",
    "        return model\n",
    "    \n",
    "    def get_outputs(self, nodes):\n",
    "        assert nodes.shape == (N, h)\n",
    "        outputs = self.model.predict(nodes)\n",
    "        assert outputs.shape == (N, o)\n",
    "        return outputs"
   ]
  },
  {
   "cell_type": "code",
   "execution_count": 23,
   "metadata": {
    "collapsed": true
   },
   "outputs": [],
   "source": [
    "# Make objects\n",
    "message_M = MessageModel()\n",
    "update_M = UpdateModel()\n",
    "output_M = OutputModel()"
   ]
  },
  {
   "cell_type": "code",
   "execution_count": 27,
   "metadata": {
    "collapsed": true
   },
   "outputs": [],
   "source": [
    "def propogate(node_states, get_output):\n",
    "    messages = message_M.get_messages(node_states)\n",
    "    aggregates = aggregate(predecessors, messages)\n",
    "    updates = update_M.get_updates(aggregates)\n",
    "    if get_output:\n",
    "        outputs = output_M.get_messages(updates)\n",
    "        return updates, outputs\n",
    "    return updates, None"
   ]
  },
  {
   "cell_type": "code",
   "execution_count": 28,
   "metadata": {
    "collapsed": true
   },
   "outputs": [],
   "source": [
    "def run_epoch(node_feats):\n",
    "    node_states = node_feats.copy()\n",
    "    for p in range(num_props):\n",
    "        node_states, outputs = propogate(node_states, p == num_props-1)\n",
    "    # Train"
   ]
  },
  {
   "cell_type": "code",
   "execution_count": null,
   "metadata": {
    "collapsed": true
   },
   "outputs": [],
   "source": [
    "for epoch in range(num_epochs):\n",
    "    run_epoch()"
   ]
  }
 ],
 "metadata": {
  "kernelspec": {
   "display_name": "Python 3",
   "language": "python",
   "name": "python3"
  },
  "language_info": {
   "codemirror_mode": {
    "name": "ipython",
    "version": 3
   },
   "file_extension": ".py",
   "mimetype": "text/x-python",
   "name": "python",
   "nbconvert_exporter": "python",
   "pygments_lexer": "ipython3",
   "version": "3.6.8"
  }
 },
 "nbformat": 4,
 "nbformat_minor": 2
}
