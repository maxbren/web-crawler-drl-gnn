{
 "cells": [
  {
   "cell_type": "code",
   "execution_count": 340,
   "metadata": {
    "collapsed": true
   },
   "outputs": [],
   "source": [
    "# FINAL FORM FOR DEEPMIND ARCH"
   ]
  },
  {
   "cell_type": "code",
   "execution_count": 341,
   "metadata": {
    "collapsed": true
   },
   "outputs": [],
   "source": [
    "import networkx as nx\n",
    "import matplotlib.pyplot as plt\n",
    "from matplotlib.lines import Line2D\n",
    "import numpy as np\n",
    "import torch.nn as nn\n",
    "import torch\n",
    "import torch.optim as optim\n",
    "import numpy as np\n",
    "import scipy.sparse as sp\n",
    "from collections import defaultdict"
   ]
  },
  {
   "cell_type": "code",
   "execution_count": 342,
   "metadata": {
    "collapsed": true
   },
   "outputs": [],
   "source": [
    "A = np.array([\n",
    "    [0, 1, 1, 1],\n",
    "    [0, 0, 1, 1],\n",
    "    [0, 1, 0, 1],\n",
    "    [0, 0, 0, 0]\n",
    "])"
   ]
  },
  {
   "cell_type": "code",
   "execution_count": 343,
   "metadata": {
    "collapsed": true
   },
   "outputs": [],
   "source": [
    "node_feats = np.array([\n",
    "    [4, 1, 2],\n",
    "    [6, 3, 6],\n",
    "    [5, 4, 7],\n",
    "    [1, 3, 3]\n",
    "])\n",
    "\n",
    "# Have to coorpsond to looping through the adj matrix (A) row outer, col inner\n",
    "edge_feats = np.array([\n",
    "    [5, 2],\n",
    "    [6, 3],\n",
    "    [6, 8],\n",
    "    [7, 2],\n",
    "    [8, 4],\n",
    "    [9, 7],\n",
    "    [2, 8]\n",
    "])\n",
    "\n",
    "y = np.array([0, 1, 0, 1])\n",
    "y = torch.tensor(y).long()  # Important, needs to be of type long\n",
    "\n",
    "assert edge_feats.shape[0] == A.sum()\n",
    "assert node_feats.shape[0] == A.shape[0]"
   ]
  },
  {
   "cell_type": "code",
   "execution_count": 344,
   "metadata": {
    "collapsed": true
   },
   "outputs": [],
   "source": [
    "N = node_feats.shape[0]  # Num nodes\n",
    "E = edge_feats.shape[0] # Num edges, All edges are out-edges for some nodes and in-edges for others\n",
    "f_n = node_feats.shape[1]  # Num input feats for nodes\n",
    "f_e = edge_feats.shape[1]  # Num input feats for edges\n",
    "h_n = 5  # Hidden state for node size\n",
    "h_e = 4  # Hidden state for edge size\n",
    "num_class = 2\n",
    "o = num_class  # Output size\n",
    "# range_train = [0, 140]\n",
    "# range_val = [200, 500]\n",
    "# range_test = [500, 1500]\n",
    "range_train = [0, 2]\n",
    "range_val = [2, 4]"
   ]
  },
  {
   "cell_type": "code",
   "execution_count": 345,
   "metadata": {},
   "outputs": [
    {
     "data": {
      "text/plain": [
       "[(0, 1), (0, 2), (0, 3), (1, 2), (1, 3), (2, 1), (2, 3)]"
      ]
     },
     "execution_count": 345,
     "metadata": {},
     "output_type": "execute_result"
    }
   ],
   "source": [
    "# Need a list of tuples of in-nodes and out-nodes for each edge\n",
    "# indices for each node are saved\n",
    "edge_tuples = []\n",
    "for in_indx, row in enumerate(A):  # by row\n",
    "    for out_indx, val in enumerate(row):\n",
    "        if val == 1:  # if edge there\n",
    "            edge_tuples.append((in_indx, out_indx))\n",
    "edge_tuples"
   ]
  },
  {
   "cell_type": "code",
   "execution_count": 346,
   "metadata": {},
   "outputs": [
    {
     "data": {
      "text/plain": [
       "[[], [0, 5], [1, 3], [2, 4, 6]]"
      ]
     },
     "execution_count": 346,
     "metadata": {},
     "output_type": "execute_result"
    }
   ],
   "source": [
    "# Need list of lists of in-edge indxs for each node (ie the nodes corrospond to out-nodes of an edge)\n",
    "\n",
    "# MAKE SURE THE EDGES IN EDGE_FEATS IS STORED IN THE SAME ORDER AS IT WILL BE ACCESSED HERE\n",
    "\n",
    "# ORDER OF OUT-NODES\n",
    "in_edge_list = []\n",
    "in_edge_list = [[] for _ in range(N)]  # This makes a list of lists of len(N)\n",
    "cur_edge_indx = 0\n",
    "for in_indx, row in enumerate(A):  # row\n",
    "    for out_indx, val in enumerate(row):  # col\n",
    "        if val == 1:\n",
    "            in_edge_list[out_indx].append(cur_edge_indx)\n",
    "            cur_edge_indx += 1\n",
    "in_edge_list"
   ]
  },
  {
   "cell_type": "code",
   "execution_count": 347,
   "metadata": {
    "collapsed": true
   },
   "outputs": [],
   "source": [
    "# Input: (N, f_n)\n",
    "# Output: (N, h_n)\n",
    "class NodeInputModel(nn.Module):\n",
    "    def __init__(self):\n",
    "        super(NodeInputModel, self).__init__()\n",
    "        self.model = nn.Sequential(\n",
    "            nn.Linear(f_n, h_n),\n",
    "            nn.ReLU(),\n",
    "            nn.Dropout()\n",
    "        )\n",
    "        \n",
    "    def forward(self, nodes):\n",
    "        assert nodes.shape == (N, f_n)\n",
    "        hidden_states = self.model(nodes)\n",
    "        assert hidden_states.shape == (N, h_n)\n",
    "        return hidden_states"
   ]
  },
  {
   "cell_type": "code",
   "execution_count": 348,
   "metadata": {
    "collapsed": true
   },
   "outputs": [],
   "source": [
    "# Input: (E, f_e)\n",
    "# Output: (E, h_e)\n",
    "class EdgeInputModel(nn.Module):\n",
    "    def __init__(self):\n",
    "        super(EdgeInputModel, self).__init__()\n",
    "        self.model = nn.Sequential(\n",
    "            nn.Linear(f_e, h_e),\n",
    "            nn.ReLU(),\n",
    "            nn.Dropout()\n",
    "        )\n",
    "        \n",
    "    def forward(self, edges):\n",
    "        assert edges.shape == (E, f_e)\n",
    "        hidden_states = self.model(edges)\n",
    "        assert hidden_states.shape == (E, h_e)\n",
    "        return hidden_states"
   ]
  },
  {
   "cell_type": "code",
   "execution_count": 349,
   "metadata": {
    "collapsed": true
   },
   "outputs": [],
   "source": [
    "# Input: (E, h_n + h_n + h_e)  # in node, out node and edge hidden states\n",
    "# Output: (E, h_e)\n",
    "class EdgeUpdateModel(nn.Module):\n",
    "    def __init__(self):\n",
    "        super(EdgeUpdateModel, self).__init__()\n",
    "        self.input_shape_cols = h_n + h_n + h_e\n",
    "        self.model = nn.Sequential(\n",
    "            nn.Linear(self.input_shape_cols, h_e),\n",
    "            nn.ReLU(),\n",
    "            nn.Dropout(0.5)\n",
    "        )\n",
    "        \n",
    "    def forward(self, send_nodes, rec_nodes, edges):\n",
    "        assert send_nodes.shape == (E, h_n)\n",
    "        assert rec_nodes.shape == (E, h_n)\n",
    "        assert edges.shape == (E, h_e)\n",
    "        concat = torch.cat([send_nodes, rec_nodes, edges], dim=1)\n",
    "        assert concat.shape == (E, self.input_shape_cols)\n",
    "        new_edges = self.model(concat)\n",
    "        assert new_edges.shape == (E, h_e)\n",
    "        return new_edges"
   ]
  },
  {
   "cell_type": "code",
   "execution_count": 350,
   "metadata": {
    "collapsed": true
   },
   "outputs": [],
   "source": [
    "# Input: (N, h_n + h_e)  # node, in-edge sum agg (ie out-node)\n",
    "# Output: (N, h_n)\n",
    "class NodeUpdateModel(nn.Module):\n",
    "    def __init__(self):\n",
    "        super(NodeUpdateModel, self).__init__()\n",
    "        self.model = nn.Sequential(\n",
    "            nn.Linear(h_n + h_e, h_n),\n",
    "            nn.ReLU(),\n",
    "            nn.Dropout(0.5)\n",
    "        )\n",
    "        \n",
    "    def forward(self, nodes, in_edges):\n",
    "        assert nodes.shape == (N, h_n)\n",
    "        assert in_edges.shape == (N, h_e)\n",
    "        concat = torch.cat([nodes, in_edges], dim=1)\n",
    "        assert concat.shape == (N, h_n + h_e)\n",
    "        new_nodes = self.model(concat)\n",
    "        assert new_nodes.shape == (N, h_n)\n",
    "        return new_nodes"
   ]
  },
  {
   "cell_type": "code",
   "execution_count": 351,
   "metadata": {
    "collapsed": true
   },
   "outputs": [],
   "source": [
    "# Input: (N, h_n)  updated node hidden states\n",
    "# Output: (N, o)  outputs for each node (softmax on classes)\n",
    "class OutputModel(nn.Module):\n",
    "    def __init__(self):\n",
    "        super(OutputModel, self).__init__()\n",
    "        self.model = nn.Sequential(\n",
    "            nn.Linear(h_n, o)\n",
    "        )\n",
    "        \n",
    "    def forward(self, nodes):\n",
    "        assert nodes.shape == (N, h_n)\n",
    "        outputs = self.model(nodes)\n",
    "        assert outputs.shape == (N, o)\n",
    "        return outputs"
   ]
  },
  {
   "cell_type": "code",
   "execution_count": 352,
   "metadata": {
    "collapsed": true
   },
   "outputs": [],
   "source": [
    "def plot_grad_flow(layers, ave_grads, max_grads):\n",
    "    '''Plots the gradients flowing through different layers in the net during training.\n",
    "    Can be used for checking for possible gradient vanishing / exploding problems. '''\n",
    "\n",
    "#     plt.bar(np.arange(len(max_grads)), max_grads, alpha=0.1, lw=1, color=\"c\")\n",
    "#     plt.bar(np.arange(len(max_grads)), ave_grads, alpha=0.1, lw=1, color=\"b\")\n",
    "#     plt.hlines(0, 0, len(ave_grads)+1, lw=2, color=\"k\" )\n",
    "#     plt.xticks(range(0,len(ave_grads), 1), layers, rotation=\"vertical\")\n",
    "#     plt.xlim(left=0, right=len(ave_grads))\n",
    "#     plt.ylim(bottom = -0.001, top=0.02) # zoom in on the lower gradient regions\n",
    "#     plt.xlabel(\"Layers\")\n",
    "#     plt.ylabel(\"average gradient\")\n",
    "#     plt.title(\"Gradient flow\")\n",
    "#     plt.grid(True)\n",
    "#     plt.legend([Line2D([0], [0], color=\"c\", lw=4),\n",
    "#                 Line2D([0], [0], color=\"b\", lw=4),\n",
    "#                 Line2D([0], [0], color=\"k\", lw=4)], ['max-gradient', 'mean-gradient', 'zero-gradient'])\n",
    "\n",
    "    plt.plot(ave_grads, alpha=0.3, color=\"b\")\n",
    "    plt.hlines(0, 0, len(ave_grads)+1, linewidth=1, color=\"k\" )\n",
    "    plt.xticks(range(0,len(ave_grads), 1), layers, rotation=\"vertical\")\n",
    "    plt.xlim(xmin=0, xmax=len(ave_grads))\n",
    "    plt.xlabel(\"Layers\")\n",
    "    plt.ylabel(\"average gradient\")\n",
    "    plt.title(\"Gradient flow\")\n",
    "    plt.grid(True)\n",
    "    \n",
    "#     plt.show()"
   ]
  },
  {
   "cell_type": "code",
   "execution_count": 353,
   "metadata": {
    "collapsed": true
   },
   "outputs": [],
   "source": [
    "# Graph NN block\n",
    "class GNBlock(nn.Module):\n",
    "    def __init__(self):\n",
    "        super(GNBlock, self).__init__()\n",
    "        self.node_input_model = NodeInputModel()\n",
    "        self.edge_input_model = EdgeInputModel()\n",
    "        self.edge_update_model = EdgeUpdateModel()\n",
    "        self.node_update_model = NodeUpdateModel()\n",
    "        self.output_model = OutputModel()\n",
    "        \n",
    "        self.loss = nn.CrossEntropyLoss()\n",
    "    \n",
    "    # edge_tuples contains a list of all edges in terms of in-node indx, and out-node indx\n",
    "    def update_edges(self, edge_tuples, node_states, edge_states):\n",
    "        # Collect in and out nodes\n",
    "#         in_nodes = np.zeros(shape=(E, h_n))\n",
    "#         out_nodes = np.zeros(shape=(E, h_n))\n",
    "        in_agg, out_agg = [], []\n",
    "        for e_indx, edge in enumerate(edge_tuples):\n",
    "            in_node = edge[0]\n",
    "            out_node = edge[1]\n",
    "            in_agg.append(node_states[in_node])\n",
    "            out_agg.append(node_states[out_node])\n",
    "        in_stack = torch.stack(in_agg)\n",
    "        out_stack = torch.stack(out_agg)\n",
    "        return self.edge_update_model(in_stack, out_stack, edge_states)\n",
    "    \n",
    "    # in_edges_list is a list of lists of the edge indxs of in-edges to a node, if empty then append all zeros\n",
    "    def update_nodes(self, in_edges_list, node_states, edge_states):\n",
    "        agg = []\n",
    "        assert len(in_edges_list) == N\n",
    "        for in_edges in in_edges_list:\n",
    "            if len(in_edges) > 0:\n",
    "                in_edge_states = edge_states[in_edges, :]\n",
    "                assert in_edge_states.shape == (len(in_edges), h_e) or in_edge_states.shape == (h_e,)  # if one\n",
    "                agg_in_edge_states = torch.sum(in_edge_states, dim=0)\n",
    "                assert agg_in_edge_states.shape == (h_e,)\n",
    "                agg.append(agg_in_edge_states)\n",
    "            else:\n",
    "                agg.append(torch.zeros(h_e))\n",
    "        stack = torch.stack(agg)\n",
    "        assert stack.shape == (N, h_e)\n",
    "        return self.node_update_model(node_states, stack)\n",
    "            \n",
    "    # Propogate (THIS ASSUMES THAT THE INITIAL FEATURES ARE SENT IN ON EVERY FIRST PROP OF AN EPOCH)\n",
    "    def forward(self, node_inputs, edge_inputs, edge_tuples, in_edge_list, send_input, get_output):\n",
    "        # Get initial hidden states ------\n",
    "        if send_input:\n",
    "            node_states = self.node_input_model(node_inputs)\n",
    "            edge_states = self.edge_input_model(edge_inputs)\n",
    "        else:\n",
    "            node_states = node_inputs\n",
    "            edge_states = edge_inputs\n",
    "        # Update edges ------\n",
    "        edge_updates = self.update_edges(edge_tuples, node_states, edge_states)\n",
    "        # Update nodes ------\n",
    "        node_updates = self.update_nodes(in_edge_list, node_states, edge_updates)  # Send in updated edge updates\n",
    "        # Get outputs if need to ------\n",
    "        if get_output:\n",
    "            outputs = self.output_model(node_updates)\n",
    "            return node_updates, edge_updates, outputs\n",
    "        return node_updates, edge_updates, None\n",
    "    \n",
    "    # Outputs: (N_train, o) tensor\n",
    "    # Targets: (N_train,) tensor of the classes\n",
    "    def backward(self, outputs, targets):\n",
    "        num_train = range_train[1] - range_train[0]\n",
    "        assert outputs.shape == (num_train, o)\n",
    "        assert targets.shape == (num_train,)\n",
    "        loss = self.loss(outputs, targets)\n",
    "        loss.backward()\n",
    "        # Graph gradient flow\n",
    "        self.graph_grads()\n",
    "        \n",
    "        # Print grad\n",
    "#         for n, p in self.input_model.named_parameters():\n",
    "#             print(p.abs().mean())\n",
    "        \n",
    "        return loss.data.tolist()\n",
    "    \n",
    "    # Given model get grads\n",
    "    def get_layer_grads(self, model, i):\n",
    "        layers, avg_grads, max_grads = [], [], []\n",
    "        for n, p in model.named_parameters():\n",
    "            if(p.requires_grad) and (\"bias\" not in n):\n",
    "                layers.append(n)\n",
    "                avg_grads.append(p.grad.abs().mean())\n",
    "                max_grads.append(p.grad.abs().max())\n",
    "        return layers, avg_grads, max_grads\n",
    "    \n",
    "    def graph_grads(self):\n",
    "        layers = []\n",
    "        avg_grads = []\n",
    "        max_grads = []\n",
    "        i = 0\n",
    "        for model in [self.node_input_model, self.edge_input_model, self.edge_update_model, self.node_update_model,\n",
    "                     self.output_model]:\n",
    "            l, a, m = self.get_layer_grads(model, i)\n",
    "            i += 1\n",
    "            layers.extend(l)\n",
    "            avg_grads.extend(a)\n",
    "            max_grads.extend(m)\n",
    "        \n",
    "        plot_grad_flow(layers, avg_grads, max_grads)\n",
    "        \n",
    "    # Just gets the loss for a set (doesnt optimize)\n",
    "    def get_loss(self, outputs, targets):\n",
    "        assert outputs.shape[0] == targets.shape[0]\n",
    "        loss = self.loss(outputs, targets)\n",
    "        return loss.data.tolist()\n",
    "    \n",
    "    def get_accuracy(self, outputs, targets):\n",
    "        assert outputs.shape[0] == targets.shape[0]\n",
    "        outputs_ = np.array(outputs.data.tolist())\n",
    "        output_preds = np.argmax(outputs_, axis=1)\n",
    "        targets = np.array(targets.data.tolist())\n",
    "        acc = ((output_preds == targets).sum()) / targets.shape[0]\n",
    "        return acc\n",
    "        "
   ]
  },
  {
   "cell_type": "code",
   "execution_count": 354,
   "metadata": {
    "collapsed": true
   },
   "outputs": [],
   "source": [
    "def run_epoch(gnn, optimizer, node_feats, edge_feats, num_props, epoch_num):\n",
    "    optimizer.zero_grad()\n",
    "    node_states = torch.tensor(node_feats).float()\n",
    "    edge_states = torch.tensor(edge_feats).float()\n",
    "    for p in range(num_props):\n",
    "        node_states, edge_states, outputs = gnn(node_states, edge_states, edge_tuples, in_edge_list, p == 0, p == num_props-1)\n",
    "    # Train ---\n",
    "    train_outputs = outputs[range_train[0]:range_train[1], :]\n",
    "    train_targets = y[range_train[0]:range_train[1]]\n",
    "    train_loss = gnn.backward(train_outputs, train_targets)\n",
    "    train_acc = gnn.get_accuracy(train_outputs, train_targets)\n",
    "    optimizer.step()\n",
    "    # Val ---\n",
    "    val_outputs = outputs[range_val[0]:range_val[1], :]\n",
    "    val_targets = y[range_val[0]:range_val[1]]\n",
    "    val_loss = gnn.get_loss(val_outputs, val_targets)\n",
    "    val_acc = gnn.get_accuracy(val_outputs, val_targets)\n",
    "    \n",
    "    print('Epoch: {}  train_loss: {:.3f}  train_acc: {:.3f}  val_loss: {:.3f}  val_acc: {:.3f}'.format(epoch_num, train_loss, train_acc, val_loss, val_acc))\n",
    "        \n",
    "        "
   ]
  },
  {
   "cell_type": "code",
   "execution_count": 355,
   "metadata": {},
   "outputs": [
    {
     "name": "stderr",
     "output_type": "stream",
     "text": [
      "C:\\Users\\Max Brenner\\Anaconda3\\lib\\site-packages\\matplotlib\\axes\\_base.py:3215: MatplotlibDeprecationWarning: \n",
      "The `xmin` argument was deprecated in Matplotlib 3.0 and will be removed in 3.2. Use `left` instead.\n",
      "  alternative='`left`', obj_type='argument')\n",
      "C:\\Users\\Max Brenner\\Anaconda3\\lib\\site-packages\\matplotlib\\axes\\_base.py:3221: MatplotlibDeprecationWarning: \n",
      "The `xmax` argument was deprecated in Matplotlib 3.0 and will be removed in 3.2. Use `right` instead.\n",
      "  alternative='`right`', obj_type='argument')\n"
     ]
    },
    {
     "name": "stdout",
     "output_type": "stream",
     "text": [
      "Epoch: 1  train_loss: 0.841  train_acc: 0.000  val_loss: 0.526  val_acc: 1.000\n",
      "Epoch: 2  train_loss: 0.696  train_acc: 0.500  val_loss: 0.694  val_acc: 0.500\n",
      "Epoch: 3  train_loss: 0.515  train_acc: 1.000  val_loss: 0.519  val_acc: 1.000\n",
      "Epoch: 4  train_loss: 0.572  train_acc: 1.000  val_loss: 0.697  val_acc: 0.500\n",
      "Epoch: 5  train_loss: 0.711  train_acc: 0.500  val_loss: 0.719  val_acc: 0.500\n",
      "Epoch: 6  train_loss: 0.757  train_acc: 0.500  val_loss: 0.533  val_acc: 1.000\n",
      "Epoch: 7  train_loss: 0.753  train_acc: 0.500  val_loss: 0.982  val_acc: 0.000\n",
      "Epoch: 8  train_loss: 0.711  train_acc: 0.500  val_loss: 0.470  val_acc: 1.000\n",
      "Epoch: 9  train_loss: 0.395  train_acc: 1.000  val_loss: 0.622  val_acc: 1.000\n",
      "Epoch: 10  train_loss: 0.499  train_acc: 1.000  val_loss: 0.807  val_acc: 0.000\n",
      "Epoch: 11  train_loss: 0.544  train_acc: 1.000  val_loss: 1.069  val_acc: 0.000\n",
      "Epoch: 12  train_loss: 0.693  train_acc: 0.500  val_loss: 0.458  val_acc: 1.000\n",
      "Epoch: 13  train_loss: 0.454  train_acc: 1.000  val_loss: 0.705  val_acc: 0.500\n",
      "Epoch: 14  train_loss: 0.393  train_acc: 1.000  val_loss: 0.695  val_acc: 0.500\n",
      "Epoch: 15  train_loss: 0.331  train_acc: 1.000  val_loss: 1.154  val_acc: 0.000\n",
      "Epoch: 16  train_loss: 0.290  train_acc: 1.000  val_loss: 0.706  val_acc: 0.500\n",
      "Epoch: 17  train_loss: 0.323  train_acc: 1.000  val_loss: 0.597  val_acc: 0.500\n",
      "Epoch: 18  train_loss: 0.715  train_acc: 0.500  val_loss: 0.861  val_acc: 0.000\n",
      "Epoch: 19  train_loss: 0.599  train_acc: 1.000  val_loss: 0.710  val_acc: 0.500\n",
      "Epoch: 20  train_loss: 0.342  train_acc: 1.000  val_loss: 1.456  val_acc: 0.000\n"
     ]
    },
    {
     "data": {
      "image/png": "[encoded data removed]",
      "text/plain": [
       "<Figure size 432x288 with 1 Axes>"
      ]
     },
     "metadata": {},
     "output_type": "display_data"
    }
   ],
   "source": [
    "gnn = GNBlock()\n",
    "optimizer = optim.Adam(gnn.parameters(), lr = 1e-2)\n",
    "\n",
    "num_props = 1\n",
    "num_epochs = 20\n",
    "for epoch in range(num_epochs):\n",
    "    run_epoch(gnn, optimizer, node_feats, edge_feats, num_props, epoch+1)\n",
    "plt.show()"
   ]
  }
 ],
 "metadata": {
  "kernelspec": {
   "display_name": "Python 3",
   "language": "python",
   "name": "python3"
  },
  "language_info": {
   "codemirror_mode": {
    "name": "ipython",
    "version": 3
   },
   "file_extension": ".py",
   "mimetype": "text/x-python",
   "name": "python",
   "nbconvert_exporter": "python",
   "pygments_lexer": "ipython3",
   "version": "3.6.8"
  }
 },
 "nbformat": 4,
 "nbformat_minor": 2
}
