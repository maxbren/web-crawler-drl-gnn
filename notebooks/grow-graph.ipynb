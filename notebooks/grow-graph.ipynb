{
 "cells": [
  {
   "cell_type": "code",
   "execution_count": 149,
   "metadata": {
    "collapsed": true
   },
   "outputs": [],
   "source": [
    "import networkx as nx\n",
    "import numpy as np\n",
    "import matplotlib.pyplot as plt\n",
    "from sklearn.metrics.pairwise import cosine_similarity"
   ]
  },
  {
   "cell_type": "code",
   "execution_count": 166,
   "metadata": {
    "collapsed": true
   },
   "outputs": [],
   "source": [
    "# Assumption: \n",
    "# 1) When a node is chosen its children are auto added, and if any of the children are the goal it ends\n",
    "# 2) There are never no edge nodes, always edges that have links left"
   ]
  },
  {
   "cell_type": "code",
   "execution_count": 151,
   "metadata": {
    "collapsed": true
   },
   "outputs": [],
   "source": [
    "# Constants\n",
    "ignore_internal_nodes = True  # Whether to ignore the internal nodes when picking a new node to add to graph\n",
    "max_ep_steps = 5\n",
    "prop_steps = 2\n",
    "fake_goal = np.array([4, 1, 2])  # Fake embedding\n",
    "goal_node = 3  # Actual node goal\n",
    "num_eps = 1"
   ]
  },
  {
   "cell_type": "code",
   "execution_count": 152,
   "metadata": {},
   "outputs": [],
   "source": [
    "# Graph\n",
    "feat_size = 3\n",
    "G = nx.DiGraph()\n",
    "A = np.array([3, 1, 2])\n",
    "B = np.array([5, 3, 1])\n",
    "C = np.array([2, 3, 1])\n",
    "D = np.array([5, 7, 2])\n",
    "E = np.array([6, 4, 6])\n",
    "G.add_node(0, v=A)\n",
    "G.add_node(1, v=B)\n",
    "G.add_node(2, v=C)\n",
    "G.add_node(3, v=D)\n",
    "G.add_node(4, v=E)\n",
    "G.add_edges_from([(3, 4), (1, 0), (2, 1), (4, 3), (2, 4), (4, 0)])"
   ]
  },
  {
   "cell_type": "code",
   "execution_count": 153,
   "metadata": {},
   "outputs": [
    {
     "data": {
      "image/png": "[encoded data removed]",
      "text/plain": [
       "<Figure size 432x288 with 1 Axes>"
      ]
     },
     "metadata": {},
     "output_type": "display_data"
    }
   ],
   "source": [
    "nx.draw(G, with_labels=True, font_weight='bold')\n",
    "plt.show()"
   ]
  },
  {
   "cell_type": "code",
   "execution_count": 154,
   "metadata": {},
   "outputs": [
    {
     "name": "stdout",
     "output_type": "stream",
     "text": [
      "{0: [], 1: [0], 2: [1, 4], 3: [4], 4: [3, 0]}\n",
      "{0: array([3, 1, 2]), 1: array([5, 3, 1]), 2: array([2, 3, 1]), 3: array([5, 7, 2]), 4: array([6, 4, 6])}\n"
     ]
    }
   ],
   "source": [
    "# Out-Node and feat node dicts\n",
    "out_node_dict = {}\n",
    "feat_node_dict = {}\n",
    "for node, data in G.nodes(data=True):\n",
    "    out_node_dict[node] = list(G.successors(node))\n",
    "    feat_node_dict[node] = data['v']\n",
    "print(out_node_dict)\n",
    "print(feat_node_dict)"
   ]
  },
  {
   "cell_type": "code",
   "execution_count": 155,
   "metadata": {
    "collapsed": true
   },
   "outputs": [],
   "source": [
    "# there are three ways im testing, \n",
    "# 1)if i put it in the state update func\n",
    "# 2) if I send it in to the output i.e. after the update \n",
    "# 3) If i dont send in the goal and do a cos sim test between the output and the goal\n",
    "goal_opt = 1"
   ]
  },
  {
   "cell_type": "code",
   "execution_count": 185,
   "metadata": {},
   "outputs": [],
   "source": [
    "hidden_size = feat_size\n",
    "goal_size = hidden_size\n",
    "# Define message, aggregate, update and output functions (one each), appied in order to each node\n",
    "# Message: Takes an array (N_in, feats) (in-nodes) and applies the func\n",
    "def mF(X):\n",
    "    return X * 2  # Output: x.shape\n",
    "# Aggregate: Takes a array of func (N_in x length) (in-node messages) and aggregates which in this case is average \n",
    "def aF(X):\n",
    "    return np.mean(X, axis=0)  # Output: (N_in,)\n",
    "# Update opt 1: Takes an array (3, feat) which is the curr node feats, input goal and the aggregate\n",
    "# Update opt 2 and 3: Takes an array (2, feat) which is the curr node feats and the aggregate\n",
    "def uF(X, opt):\n",
    "    return np.sum(X, axis=0)\n",
    "# Output opt 1: Takes a vector (update for node) and applies func  \n",
    "# Output opt 2: Takes a an array (2, feat) update and goal and applies func\n",
    "# Output opt 3: Takes a vector (update for node) and applies func\n",
    "def oF(X):\n",
    "    if goal_opt == 1:\n",
    "        return np.sum(X + 2.)  # Output: (1,)\n",
    "    elif goal_opt == 2:\n",
    "        return np.sum(np.mean(X, axis=0) + 2.)  # Output: (1,)\n",
    "    else:\n",
    "        return X + 2.  # Output: x.shape"
   ]
  },
  {
   "cell_type": "code",
   "execution_count": 186,
   "metadata": {
    "collapsed": true
   },
   "outputs": [],
   "source": [
    "# Given a node, graph and out_node_dict and feat_dict return the graph with the childrne of the node added\n",
    "# Also return if goal reached\n",
    "def add_children(node, G, out_nodes, node_feat, goal_node):\n",
    "    achieved_goal = False\n",
    "    children = out_nodes[node]\n",
    "    children_vals = [node_feat[x] for x in children]\n",
    "    for child, val in zip(children, children_vals):\n",
    "        if child not in G:\n",
    "            G.add_node(child, v=val)\n",
    "            if child == goal_node:\n",
    "                achieved_goal = True\n",
    "        if not G.has_edge(node, child):  # the node might exist but not the edge\n",
    "            G.add_edge(node, child)\n",
    "    return achieved_goal"
   ]
  },
  {
   "cell_type": "code",
   "execution_count": 187,
   "metadata": {},
   "outputs": [],
   "source": [
    "# Pick a random node to start with\n",
    "# start_node = np.random.choice(list(G.node))\n",
    "start_node = 1\n",
    "start_node_v = G.nodes(data=True)[start_node]['v']\n",
    "G_init = nx.DiGraph()\n",
    "# Init. Graph is init node and its children\n",
    "G_init.add_node(start_node, v=start_node_v)\n",
    "_ = add_children(start_node, G_init, out_node_dict, feat_node_dict, goal_node)"
   ]
  },
  {
   "cell_type": "code",
   "execution_count": 188,
   "metadata": {},
   "outputs": [
    {
     "data": {
      "image/png": "[encoded data removed]",
      "text/plain": [
       "<Figure size 432x288 with 1 Axes>"
      ]
     },
     "metadata": {},
     "output_type": "display_data"
    }
   ],
   "source": [
    "nx.draw(G_curr, with_labels=True, font_weight='bold')\n",
    "plt.show()"
   ]
  },
  {
   "cell_type": "code",
   "execution_count": 189,
   "metadata": {},
   "outputs": [],
   "source": [
    "# For now this is -1 per timestep +5 on terminal for reaching goal, -5 on terminal for not reaching goal\n",
    "# In future, i want to give it feedback on how close it got by either:\n",
    "# 1) For all nodes (or edge nodes) calc the shortest distance to the goal and then pick the shortest and use that\n",
    "# 2) If (1) takes too long than instead embed all of the found nodes names and pick the one with the closest dist to\n",
    "# the goal embedding to use\n",
    "def reward_func(terminal, reach_goal):\n",
    "    rew = -1\n",
    "    if terminal:\n",
    "        rew += 5 if reach_goal else -5\n",
    "    return rew"
   ]
  },
  {
   "cell_type": "code",
   "execution_count": 190,
   "metadata": {},
   "outputs": [],
   "source": [
    "def cos_sim(a, b):\n",
    "    return cosine_similarity(a, b)[:, 0]"
   ]
  },
  {
   "cell_type": "code",
   "execution_count": 207,
   "metadata": {
    "collapsed": true
   },
   "outputs": [],
   "source": [
    "def propogate(G_curr, last_prop):\n",
    "    outputs = []\n",
    "    # Propogate: goes through each node and applies the 4 funcs above, at same time to each node\n",
    "    # so don't update the graph that is being propogated\n",
    "    # ALso dont need to run output model unless its the las propogate\n",
    "    new_node_dict = {}\n",
    "    for node, data in G_curr.nodes(data=True):\n",
    "        curr_feat = data['v']\n",
    "        # Get predecessors\n",
    "        preds_feats = np.array([G_curr.nodes[n]['v'] for n in G_curr.predecessors(node)])\n",
    "        # Apply message, aggregate, update and output functions\n",
    "        if preds_feats.size != 0:  # Has preds\n",
    "            messages = mF(preds_feats)\n",
    "            aggregate = aF(messages)\n",
    "            stack = np.stack((curr_feat, aggregate))\n",
    "            update = uF(stack, opt=goal_opt)\n",
    "        else:\n",
    "            update = uF(curr_feat.reshape(1, -1), opt=goal_opt)\n",
    "        if last_prop:\n",
    "            output = oF(update)\n",
    "            outputs.append(output)\n",
    "        new_node_dict[node] = update\n",
    "    return np.array(outputs), new_node_dict"
   ]
  },
  {
   "cell_type": "code",
   "execution_count": 208,
   "metadata": {
    "collapsed": true
   },
   "outputs": [],
   "source": [
    "# Action function (for now just greedy)\n",
    "def select_node(node_outputs, goal):\n",
    "    if goal_opt == 1 or goal_opt == 2:  # Then node outputs is a vector\n",
    "        return np.argmax(node_outputs)\n",
    "    else:  # o.w. it is of shape (N_nodes, output_len)\n",
    "        # Cos-sim\n",
    "        cos_sims = cos_sim(node_outputs, np.stack([goal] * node_outputs.shape[0]))  # vector\n",
    "        return np.argmax(cos_sims)"
   ]
  },
  {
   "cell_type": "code",
   "execution_count": 211,
   "metadata": {},
   "outputs": [],
   "source": [
    "def run_episode(G_init):\n",
    "    G_curr = G_init.copy()\n",
    "    total_rew = 0\n",
    "    for step in range(max_ep_steps):\n",
    "        # Propgate\n",
    "        for p in range(prop_steps):\n",
    "            outputs, new_node_dict = propogate(G_curr, p == prop_steps - 1)\n",
    "            nx.set_node_attributes(G_curr, new_node_dict, 'v')  # Update curr graph\n",
    "        # Pick a node to add/go to if already exists and I allow it\n",
    "        if ignore_internal_nodes:\n",
    "            # Get a list of the actual node indexes (the abs based on the overall graph)\n",
    "            edge_nodes = [n for n in G_curr.nodes if len(list(G_curr.successors(n))) == 0]\n",
    "            # Get their outputs\n",
    "            if goal_opt == 3:\n",
    "                outputs = outputs[edge_nodes, :]\n",
    "            else:\n",
    "                outputs = outputs[edge_nodes]\n",
    "            node_rel_indx = select_node(outputs, fake_goal)  # Rel to filtered nodes\n",
    "            # Grab real node\n",
    "            chosen_node = edge_nodes[node_rel_indx]\n",
    "        else:\n",
    "            chosen_node = select_node(outputs, fake_goal)\n",
    "        # Add children (returns if any of the children were goal)\n",
    "        achieved_goal = add_children(chosen_node, G_curr, out_node_dict, feat_node_dict, goal_node)\n",
    "        # Check if terminal (ends if any children are goal)\n",
    "        done = True if (step == max_ep_steps - 1) or achieved_goal else False\n",
    "        # Get reward\n",
    "        rew = reward_func(done, achieved_goal)\n",
    "        total_rew += rew\n",
    "    return total_rew, step + 1, G_curr"
   ]
  },
  {
   "cell_type": "code",
   "execution_count": 212,
   "metadata": {},
   "outputs": [
    {
     "name": "stdout",
     "output_type": "stream",
     "text": [
      "Ep: 1  Reward: -10  Num Steps: 5\n"
     ]
    },
    {
     "data": {
      "image/png": "[encoded data removed]",
      "text/plain": [
       "<Figure size 432x288 with 1 Axes>"
      ]
     },
     "metadata": {},
     "output_type": "display_data"
    }
   ],
   "source": [
    "for ep in range(num_eps):\n",
    "    ep_rew, ep_step, G_ep = run_episode(G_init)\n",
    "    print('Ep: {}  Reward: {}  Num Steps: {}'.format(ep + 1, ep_rew, ep_step))\n",
    "    nx.draw(G_ep, with_labels=True, font_weight='bold')\n",
    "    plt.show()"
   ]
  },
  {
   "cell_type": "code",
   "execution_count": null,
   "metadata": {
    "collapsed": true
   },
   "outputs": [],
   "source": []
  }
 ],
 "metadata": {
  "kernelspec": {
   "display_name": "Python 3",
   "language": "python",
   "name": "python3"
  },
  "language_info": {
   "codemirror_mode": {
    "name": "ipython",
    "version": 3
   },
   "file_extension": ".py",
   "mimetype": "text/x-python",
   "name": "python",
   "nbconvert_exporter": "python",
   "pygments_lexer": "ipython3",
   "version": "3.6.8"
  }
 },
 "nbformat": 4,
 "nbformat_minor": 2
}
