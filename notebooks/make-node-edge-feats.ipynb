{
 "cells": [
  {
   "cell_type": "markdown",
   "metadata": {},
   "source": [
    "- Makes the feats for nodes and edges\n",
    "- 3 variations for node feats listed below\n",
    "- Changed from oring word encodings to adding word encodings"
   ]
  },
  {
   "cell_type": "code",
   "execution_count": 145,
   "metadata": {
    "collapsed": true
   },
   "outputs": [],
   "source": [
    "# Generate the oring of the one hot feats for each word in the title\n",
    "import re\n",
    "import pickle\n",
    "from collections import OrderedDict\n",
    "import numpy as np"
   ]
  },
  {
   "cell_type": "code",
   "execution_count": 146,
   "metadata": {
    "collapsed": true
   },
   "outputs": [],
   "source": [
    "INPUT_FILEPATH = '../data/animals-D3-small-30K-nodes40-edges202-max10-minout2-minin3.pkl'\n",
    "NODE_VARIATION = 2\n",
    "# 0: only title; 1: title and link feats soup; 2: concat title and link feats (zero-pad) \n",
    "if NODE_VARIATION == 0:\n",
    "    OUTPUT_FILEPATH = '../data/animals-D3-small-30K-nodes40-edges202-max10-minout2-minin3_w_features_title.pkl'\n",
    "elif NODE_VARIATION == 1:\n",
    "    OUTPUT_FILEPATH = '../data/animals-D3-small-30K-nodes40-edges202-max10-minout2-minin3_w_features_soup.pkl'\n",
    "else:\n",
    "    OUTPUT_FILEPATH = '../data/animals-D3-small-30K-nodes40-edges202-max10-minout2-minin3_w_features_concat.pkl'"
   ]
  },
  {
   "cell_type": "code",
   "execution_count": 147,
   "metadata": {
    "collapsed": true
   },
   "outputs": [],
   "source": [
    "class Page:\n",
    "    def __init__(self, text, links):\n",
    "        self.text = text\n",
    "        self.links = links  # out-links\n",
    "        self.in_links = []\n",
    "        self.indx = None  # Relative to the ordered dict below\n",
    "        self.feats = None\n",
    "        self.links_feats = None"
   ]
  },
  {
   "cell_type": "code",
   "execution_count": 148,
   "metadata": {
    "collapsed": true
   },
   "outputs": [],
   "source": [
    "# Load the wiki-dict i want\n",
    "with open(INPUT_FILEPATH, 'rb') as f:\n",
    "    pages = pickle.load(f)\n",
    "pages = OrderedDict(pages)"
   ]
  },
  {
   "cell_type": "code",
   "execution_count": 149,
   "metadata": {
    "collapsed": true
   },
   "outputs": [],
   "source": [
    "replace_chars = lambda title: re.sub(r\"[()]\", '', title)"
   ]
  },
  {
   "cell_type": "code",
   "execution_count": 150,
   "metadata": {
    "collapsed": true
   },
   "outputs": [],
   "source": [
    "def create_dict(titles):\n",
    "    # Split each title into its words and ignore ()\n",
    "    words = set()\n",
    "    for title in titles:\n",
    "        title = replace_chars(title)\n",
    "        title_words = title.split()\n",
    "        words.update(title_words)\n",
    "    return words"
   ]
  },
  {
   "cell_type": "code",
   "execution_count": 151,
   "metadata": {
    "collapsed": true
   },
   "outputs": [],
   "source": [
    "titles = list(pages.keys())\n",
    "words_set = create_dict(titles)"
   ]
  },
  {
   "cell_type": "code",
   "execution_count": 152,
   "metadata": {
    "collapsed": true
   },
   "outputs": [],
   "source": [
    "def one_hot_encode(words_set):\n",
    "    num_words = len(words_set)\n",
    "    print('Dict length: {}'.format(num_words))\n",
    "    dic = {}\n",
    "    for i, word in enumerate(words_set):\n",
    "        encoding = np.zeros(shape=(num_words,), dtype=np.int)\n",
    "        encoding[i] = 1\n",
    "        dic[word] = encoding\n",
    "    return dic"
   ]
  },
  {
   "cell_type": "code",
   "execution_count": 153,
   "metadata": {},
   "outputs": [
    {
     "name": "stdout",
     "output_type": "stream",
     "text": [
      "Dict length: 42\n"
     ]
    }
   ],
   "source": [
    "encoding_dic = one_hot_encode(words_set)"
   ]
  },
  {
   "cell_type": "code",
   "execution_count": 154,
   "metadata": {
    "collapsed": true
   },
   "outputs": [],
   "source": [
    "# Given a title convert to soup of 0s and 1s\n",
    "def get_encoding(title, dic):\n",
    "    title_encode = np.zeros(shape=(len(dic,)), dtype=np.int)  # Init encode is all zeros since im oring\n",
    "    title_ = replace_chars(title)\n",
    "    title_words = title_.split()\n",
    "    for word in title_words:\n",
    "        word_encoding = dic[word]\n",
    "        title_encode = np.logical_or(title_encode, word_encoding, dtype=np.int).astype(np.int)\n",
    "#         title_encode += word_encoding\n",
    "    return title_encode"
   ]
  },
  {
   "cell_type": "code",
   "execution_count": 155,
   "metadata": {
    "collapsed": true
   },
   "outputs": [],
   "source": [
    "def add_node_feats_title_only(pages, dic):\n",
    "    for title, obj in list(pages.items()):\n",
    "        obj.feats = get_encoding(title, dic)"
   ]
  },
  {
   "cell_type": "code",
   "execution_count": 156,
   "metadata": {
    "collapsed": true
   },
   "outputs": [],
   "source": [
    "def add_node_feats_soup(pages, dic):\n",
    "    for title, obj in list(pages.items()):\n",
    "#         print('\\n\\n\\n=================')\n",
    "        obj.feats = get_encoding(title, dic)\n",
    "#         print('title: {}'.format(obj.feats))\n",
    "        for link in obj.links:\n",
    "            obj.feats += get_encoding(link, dic)\n",
    "#             print('link: {}'.format(get_encoding(link, dic)))\n",
    "#         print('full: {}'.format(obj.feats))"
   ]
  },
  {
   "cell_type": "code",
   "execution_count": 157,
   "metadata": {
    "collapsed": true
   },
   "outputs": [],
   "source": [
    "def get_max_num_links(pages):\n",
    "    curr = float('-inf')\n",
    "    for title, obj in list(pages.items()):\n",
    "        num_links = len(obj.links)\n",
    "        curr = max(num_links, curr)\n",
    "    return curr"
   ]
  },
  {
   "cell_type": "code",
   "execution_count": 158,
   "metadata": {
    "collapsed": true
   },
   "outputs": [],
   "source": [
    "def add_node_feats_concat(pages, dic):\n",
    "    max_num_links = get_max_num_links(pages)\n",
    "    length_encode = len(dic)\n",
    "#     print('max: {}'.format(max_num_links))\n",
    "    for title, obj in list(pages.items()):\n",
    "    #     print('\\n\\n\\n\\n=====================')\n",
    "        title_encode = get_encoding(title, dic)\n",
    "#         print('title encode: {}'.format(title_encode))\n",
    "        all_encodings = [title_encode]\n",
    "        for link in obj.links:\n",
    "            link_encode = get_encoding(link, dic)\n",
    "#             print('link encode: {}'.format(link_encode))\n",
    "            all_encodings.append(link_encode)\n",
    "        concat = np.concatenate(all_encodings)\n",
    "        # Now i need to zero pad, all links and title\n",
    "        full_concat = np.zeros(shape=(max_num_links * length_encode + length_encode,))\n",
    "        full_concat[:concat.shape[0]] = concat\n",
    "        obj.feats = full_concat\n",
    "        assert concat.sum() == full_concat.sum()\n",
    "#         print(concat)\n",
    "#         print('------')\n",
    "#         print(full_concat)"
   ]
  },
  {
   "cell_type": "code",
   "execution_count": 159,
   "metadata": {
    "collapsed": true,
    "scrolled": false
   },
   "outputs": [],
   "source": [
    "if NODE_VARIATION == 0:\n",
    "    add_node_feats_title_only(pages, encoding_dic)\n",
    "elif NODE_VARIATION == 1:\n",
    "    add_node_feats_soup(pages, encoding_dic)\n",
    "else:\n",
    "    add_node_feats_concat(pages, encoding_dic)"
   ]
  },
  {
   "cell_type": "code",
   "execution_count": 160,
   "metadata": {
    "collapsed": true
   },
   "outputs": [],
   "source": [
    "def add_edge_feats(pages, dic):\n",
    "    for title, obj in list(pages.items()):\n",
    "        edge_dic = {}\n",
    "        for link in obj.links:\n",
    "            edge_dic[link] = get_encoding(link, dic)\n",
    "        obj.links_feats = edge_dic"
   ]
  },
  {
   "cell_type": "code",
   "execution_count": 161,
   "metadata": {
    "collapsed": true
   },
   "outputs": [],
   "source": [
    "add_edge_feats(pages, encoding_dic)"
   ]
  },
  {
   "cell_type": "code",
   "execution_count": 162,
   "metadata": {
    "collapsed": true
   },
   "outputs": [],
   "source": [
    "def print_encodings(dic):\n",
    "    for k, v in list(dic.items()):\n",
    "        print('{}: {}'.format(k, v))\n",
    "# print_encodings(encoding_dic)"
   ]
  },
  {
   "cell_type": "code",
   "execution_count": 163,
   "metadata": {
    "collapsed": true
   },
   "outputs": [],
   "source": [
    "# for title, obj in list(pages.items()):\n",
    "#     for link in obj.links:\n",
    "#         print('{}: {}'.format(link, obj.links_feats[link]))"
   ]
  },
  {
   "cell_type": "code",
   "execution_count": 164,
   "metadata": {
    "collapsed": true
   },
   "outputs": [],
   "source": [
    "# for title, obj in list(pages.items()):\n",
    "#     print('{}: {}'.format(title, obj.feats))"
   ]
  },
  {
   "cell_type": "code",
   "execution_count": 165,
   "metadata": {
    "collapsed": true
   },
   "outputs": [],
   "source": [
    "with open(OUTPUT_FILEPATH, 'wb') as f:\n",
    "    pickle.dump(pages, f)"
   ]
  },
  {
   "cell_type": "code",
   "execution_count": null,
   "metadata": {
    "collapsed": true
   },
   "outputs": [],
   "source": []
  }
 ],
 "metadata": {
  "kernelspec": {
   "display_name": "Python 3",
   "language": "python",
   "name": "python3"
  },
  "language_info": {
   "codemirror_mode": {
    "name": "ipython",
    "version": 3
   },
   "file_extension": ".py",
   "mimetype": "text/x-python",
   "name": "python",
   "nbconvert_exporter": "python",
   "pygments_lexer": "ipython3",
   "version": "3.6.8"
  }
 },
 "nbformat": 4,
 "nbformat_minor": 2
}
