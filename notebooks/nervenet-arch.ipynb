{
 "cells": [
  {
   "cell_type": "code",
   "execution_count": 8,
   "metadata": {
    "collapsed": true
   },
   "outputs": [],
   "source": [
    "# FINAL FORM FOR NERVE NET ARCH"
   ]
  },
  {
   "cell_type": "code",
   "execution_count": 9,
   "metadata": {
    "collapsed": true
   },
   "outputs": [],
   "source": [
    "import networkx as nx\n",
    "import matplotlib.pyplot as plt\n",
    "from matplotlib.lines import Line2D\n",
    "import numpy as np\n",
    "import torch.nn as nn\n",
    "import torch\n",
    "import torch.optim as optim\n",
    "import numpy as np\n",
    "import scipy.sparse as sp"
   ]
  },
  {
   "cell_type": "markdown",
   "metadata": {},
   "source": [
    "Input I need:\n",
    "1. The graph (cora is undirected so I will just make each edge a 2-way) in networkx\n",
    "2. predecessors list since this is a static graph and i need it for the aggregate\n",
    "3. N x h that is updated every prop because its a static graph so this is faster"
   ]
  },
  {
   "cell_type": "code",
   "execution_count": 10,
   "metadata": {
    "collapsed": true
   },
   "outputs": [],
   "source": [
    "def encode_onehot(labels):\n",
    "    classes = set(labels)\n",
    "    classes_dict = {c: np.identity(len(classes))[i, :] for i, c in enumerate(classes)}\n",
    "    labels_onehot = np.array(list(map(classes_dict.get, labels)), dtype=np.int32)\n",
    "    return labels_onehot\n",
    "\n",
    "def load_dataset(path='../data/cora/', dataset='cora'):\n",
    "    \"\"\"Load citation network dataset (cora only for now)\"\"\"\n",
    "    print('Loading {} dataset...'.format(dataset))\n",
    "\n",
    "    idx_features_labels = np.genfromtxt(\"{}{}.content\".format(path, dataset), dtype=np.dtype(str))\n",
    "    features = sp.csr_matrix(idx_features_labels[:, 1:-1], dtype=np.float32)\n",
    "    labels = encode_onehot(idx_features_labels[:, -1])\n",
    "\n",
    "    # build graph\n",
    "    idx = np.array(idx_features_labels[:, 0], dtype=np.int32)\n",
    "    idx_map = {j: i for i, j in enumerate(idx)}\n",
    "    edges_unordered = np.genfromtxt(\"{}{}.cites\".format(path, dataset), dtype=np.int32)\n",
    "    edges = np.array(list(map(idx_map.get, edges_unordered.flatten())),\n",
    "                     dtype=np.int32).reshape(edges_unordered.shape)\n",
    "    adj = sp.coo_matrix((np.ones(edges.shape[0]), (edges[:, 0], edges[:, 1])),\n",
    "                        shape=(labels.shape[0], labels.shape[0]), dtype=np.float32)\n",
    "\n",
    "    # build symmetric adjacency matrix\n",
    "    adj = adj + adj.T.multiply(adj.T > adj) - adj.multiply(adj.T > adj)\n",
    "\n",
    "    print('Dataset has {} nodes, {} edges, {} features.'.format(adj.shape[0], edges.shape[0], features.shape[1]))\n",
    "\n",
    "    return features.todense(), adj.todense(), labels"
   ]
  },
  {
   "cell_type": "code",
   "execution_count": 11,
   "metadata": {},
   "outputs": [
    {
     "name": "stdout",
     "output_type": "stream",
     "text": [
      "Loading cora dataset...\n",
      "Dataset has 2708 nodes, 5429 edges, 1433 features.\n"
     ]
    }
   ],
   "source": [
    "# X: N x f\n",
    "# A: N x N\n",
    "# y: N x c\n",
    "X, A, y = load_dataset()"
   ]
  },
  {
   "cell_type": "code",
   "execution_count": 12,
   "metadata": {
    "collapsed": true
   },
   "outputs": [],
   "source": [
    "G = nx.from_numpy_matrix(A).to_directed()\n",
    "# Convert targets to a vector with the index value\n",
    "y = np.argmax(y, axis=1)\n",
    "# Convert y into a tensor\n",
    "y = torch.tensor(y)"
   ]
  },
  {
   "cell_type": "code",
   "execution_count": 13,
   "metadata": {},
   "outputs": [
    {
     "data": {
      "text/plain": [
       "tensor([2, 0, 3,  ..., 5, 4, 2])"
      ]
     },
     "execution_count": 13,
     "metadata": {},
     "output_type": "execute_result"
    }
   ],
   "source": [
    "y"
   ]
  },
  {
   "cell_type": "code",
   "execution_count": 14,
   "metadata": {
    "collapsed": true
   },
   "outputs": [],
   "source": [
    "N = X.shape[0]  # Num nodes\n",
    "f = X.shape[1]  # Num input feats\n",
    "h = 256  # Hidden state for node size\n",
    "m = 64  # Message size\n",
    "num_class = 7\n",
    "o = num_class  # Output size\n",
    "range_train = [0, 140]\n",
    "range_val = [200, 500]\n",
    "range_test = [500, 1500]"
   ]
  },
  {
   "cell_type": "code",
   "execution_count": 15,
   "metadata": {
    "collapsed": true
   },
   "outputs": [],
   "source": [
    "# This is the only thing i use the graph for\n",
    "predecessors = []\n",
    "for node in G.nodes:\n",
    "    predecessors.append(list(G.predecessors(node)))\n",
    "assert len(predecessors) == N"
   ]
  },
  {
   "cell_type": "code",
   "execution_count": 16,
   "metadata": {
    "collapsed": true
   },
   "outputs": [],
   "source": [
    "# This is so the hidden size doesnt need to be the same size as the feature size\n",
    "# Input: (N, f)\n",
    "# Output: (N, h)\n",
    "class InputModel(nn.Module):\n",
    "    def __init__(self):\n",
    "        super(InputModel, self).__init__()\n",
    "        self.model = nn.Sequential(\n",
    "            nn.Linear(f, h),\n",
    "            nn.ReLU(),\n",
    "            nn.Dropout(0.5)\n",
    "        )\n",
    "    \n",
    "    def forward(self, nodes):\n",
    "        assert nodes.shape == (N, f)\n",
    "        hidden_states = self.model(nodes)\n",
    "        assert hidden_states.shape == (N, h)\n",
    "        return hidden_states"
   ]
  },
  {
   "cell_type": "code",
   "execution_count": 17,
   "metadata": {
    "collapsed": true
   },
   "outputs": [],
   "source": [
    "# Input: (N, h) which is all nodes hidden states\n",
    "# Outut: (N, m) all nodes messages\n",
    "class MessageModel(nn.Module):\n",
    "    def __init__(self):\n",
    "        super(MessageModel, self).__init__()\n",
    "        self.model = nn.Sequential(\n",
    "            nn.Linear(h, m),\n",
    "            nn.ReLU(),\n",
    "            nn.Dropout(0.5)\n",
    "        )\n",
    "    \n",
    "    def forward(self, nodes):\n",
    "        assert nodes.shape == (N, h)\n",
    "        messages = self.model(nodes)\n",
    "        assert messages.shape == (N, m)\n",
    "        return messages"
   ]
  },
  {
   "cell_type": "code",
   "execution_count": 18,
   "metadata": {
    "collapsed": true
   },
   "outputs": [],
   "source": [
    "# Input: (N, m + h) agg messages and hidden states\n",
    "# Output: (N, h) new hidden states for nodes\n",
    "class UpdateModel(nn.Module):\n",
    "    def __init__(self):\n",
    "        super(UpdateModel, self).__init__()\n",
    "        self.model = nn.Sequential(\n",
    "            nn.Linear(m + h, h),\n",
    "            nn.ReLU(),\n",
    "            nn.Dropout(0.5)\n",
    "        )\n",
    "        \n",
    "    def forward(self, messages, hidden_states):\n",
    "        assert messages.shape == (N, m)\n",
    "        assert hidden_states.shape == (N, h)\n",
    "        # Concat\n",
    "        concat = torch.cat([messages, hidden_states], dim=1)\n",
    "        assert concat.shape == (N, m + h)\n",
    "        updates = self.model(concat)\n",
    "        assert updates.shape == (N, h)\n",
    "        return updates"
   ]
  },
  {
   "cell_type": "code",
   "execution_count": 19,
   "metadata": {
    "collapsed": true
   },
   "outputs": [],
   "source": [
    "# Input: (N, h)  updated node hidden states\n",
    "# Output: (N, o)  outputs for each node (softmax on classes)\n",
    "class OutputModel(nn.Module):\n",
    "    def __init__(self):\n",
    "        super(OutputModel, self).__init__()\n",
    "        self.model = nn.Sequential(\n",
    "            nn.Linear(h, o)\n",
    "        )\n",
    "        \n",
    "    def forward(self, nodes):\n",
    "        assert nodes.shape == (N, h)\n",
    "        outputs = self.model(nodes)\n",
    "        assert outputs.shape == (N, o)\n",
    "        return outputs"
   ]
  },
  {
   "cell_type": "code",
   "execution_count": 20,
   "metadata": {
    "collapsed": true
   },
   "outputs": [],
   "source": [
    "def plot_grad_flow(layers, ave_grads, max_grads):\n",
    "    '''Plots the gradients flowing through different layers in the net during training.\n",
    "    Can be used for checking for possible gradient vanishing / exploding problems. '''\n",
    "\n",
    "#     plt.bar(np.arange(len(max_grads)), max_grads, alpha=0.1, lw=1, color=\"c\")\n",
    "#     plt.bar(np.arange(len(max_grads)), ave_grads, alpha=0.1, lw=1, color=\"b\")\n",
    "#     plt.hlines(0, 0, len(ave_grads)+1, lw=2, color=\"k\" )\n",
    "#     plt.xticks(range(0,len(ave_grads), 1), layers, rotation=\"vertical\")\n",
    "#     plt.xlim(left=0, right=len(ave_grads))\n",
    "#     plt.ylim(bottom = -0.001, top=0.02) # zoom in on the lower gradient regions\n",
    "#     plt.xlabel(\"Layers\")\n",
    "#     plt.ylabel(\"average gradient\")\n",
    "#     plt.title(\"Gradient flow\")\n",
    "#     plt.grid(True)\n",
    "#     plt.legend([Line2D([0], [0], color=\"c\", lw=4),\n",
    "#                 Line2D([0], [0], color=\"b\", lw=4),\n",
    "#                 Line2D([0], [0], color=\"k\", lw=4)], ['max-gradient', 'mean-gradient', 'zero-gradient'])\n",
    "\n",
    "    plt.plot(ave_grads, alpha=0.3, color=\"b\")\n",
    "    plt.hlines(0, 0, len(ave_grads)+1, linewidth=1, color=\"k\" )\n",
    "    plt.xticks(range(0,len(ave_grads), 1), layers, rotation=\"vertical\")\n",
    "    plt.xlim(xmin=0, xmax=len(ave_grads))\n",
    "    plt.xlabel(\"Layers\")\n",
    "    plt.ylabel(\"average gradient\")\n",
    "    plt.title(\"Gradient flow\")\n",
    "    plt.grid(True)\n",
    "    \n",
    "#     plt.show()"
   ]
  },
  {
   "cell_type": "code",
   "execution_count": 21,
   "metadata": {
    "collapsed": true
   },
   "outputs": [],
   "source": [
    "# Graph NN block\n",
    "class GNBlock(nn.Module):\n",
    "    def __init__(self):\n",
    "        super(GNBlock, self).__init__()\n",
    "        self.input_model = InputModel()\n",
    "        self.message_model = MessageModel()\n",
    "        self.update_model = UpdateModel()\n",
    "        self.output_model = OutputModel()\n",
    "        \n",
    "        self.loss = nn.CrossEntropyLoss()\n",
    "    \n",
    "    # Input: (N x m)\n",
    "    # Output: (N x m)\n",
    "    def aggregate(self, predecessors, messages):\n",
    "        agg = []\n",
    "        # Collect all in predecessors for each node, if a node has no preds then just 0s for it\n",
    "        for preds in predecessors:\n",
    "            if len(preds) > 0:\n",
    "                in_mess = messages[preds, :]\n",
    "                assert in_mess.shape == (len(preds), m) or in_mess.shape == (m,)  # if one in-node\n",
    "#                 agg_in_mess = agg_func(in_mess)\n",
    "                agg_in_mess = torch.sum(in_mess, dim=0)\n",
    "                assert agg_in_mess.shape == (m,)\n",
    "                agg.append(agg_in_mess)\n",
    "            else:\n",
    "                agg.append(torch.zeros(m))\n",
    "        # Stack\n",
    "#         stack = np.stack(agg)\n",
    "        stack = torch.stack(agg)\n",
    "        assert stack.shape == (N, m)\n",
    "        return stack\n",
    "        \n",
    "    # Propogate (THIS ASSUMES THAT THE INITIAL FEATURES ARE SENT IN ON EVERY FIRST PROP OF AN EPOCH)\n",
    "    def forward(self, inputs, send_input, get_output):\n",
    "        # Get initial hidden states ------\n",
    "        if send_input:\n",
    "            node_states = self.input_model(inputs)\n",
    "        else:\n",
    "            node_states = inputs\n",
    "        # Get messages of each node ----\n",
    "        messages = self.message_model(node_states)\n",
    "        # Aggregate pred. edges -----\n",
    "        aggregates = self.aggregate(predecessors, messages)\n",
    "        # Get Updates for each node hidden state ---------\n",
    "        updates = self.update_model(aggregates, node_states)\n",
    "        # Get outputs if need to ------\n",
    "        if get_output:\n",
    "            outputs = self.output_model(updates)\n",
    "            return updates, outputs\n",
    "        return updates, None\n",
    "    \n",
    "    # Outputs: (N_train, o) tensor\n",
    "    # Targets: (N_train,) tensor of the classes\n",
    "    def backward(self, outputs, targets):\n",
    "        num_train = range_train[1] - range_train[0]\n",
    "        assert outputs.shape == (num_train, o)\n",
    "        assert targets.shape == (num_train,)\n",
    "        loss = self.loss(outputs, targets)\n",
    "        loss.backward()\n",
    "        # Graph gradient flow\n",
    "        self.graph_grads()\n",
    "        \n",
    "        # Print grad\n",
    "#         for n, p in self.input_model.named_parameters():\n",
    "#             print(p.abs().mean())\n",
    "        \n",
    "        return loss.data.tolist()\n",
    "    \n",
    "    # Given model get grads\n",
    "    def get_layer_grads(self, model):\n",
    "        layers, avg_grads, max_grads = [], [], []\n",
    "        for n, p in model.named_parameters():\n",
    "            if(p.requires_grad) and (\"bias\" not in n):\n",
    "                layers.append(n)\n",
    "                avg_grads.append(p.grad.abs().mean())\n",
    "                max_grads.append(p.grad.abs().max())\n",
    "        return layers, avg_grads, max_grads\n",
    "    \n",
    "    def graph_grads(self):\n",
    "        layers = []\n",
    "        avg_grads = []\n",
    "        max_grads = []\n",
    "        \n",
    "        for model in [self.input_model, self.message_model, self.update_model, self.output_model]:\n",
    "            l, a, m = self.get_layer_grads(model)\n",
    "            layers.extend(l)\n",
    "            avg_grads.extend(a)\n",
    "            max_grads.extend(m)\n",
    "        \n",
    "        plot_grad_flow(layers, avg_grads, max_grads)\n",
    "        \n",
    "    # Just gets the loss for a set (doesnt optimize)\n",
    "    def get_loss(self, outputs, targets):\n",
    "        assert outputs.shape[0] == targets.shape[0]\n",
    "        loss = self.loss(outputs, targets)\n",
    "        return loss.data.tolist()\n",
    "    \n",
    "    def get_accuracy(self, outputs, targets):\n",
    "        assert outputs.shape[0] == targets.shape[0]\n",
    "        outputs_ = np.array(outputs.data.tolist())\n",
    "        output_preds = np.argmax(outputs_, axis=1)\n",
    "        targets = np.array(targets.data.tolist())\n",
    "        acc = ((output_preds == targets).sum()) / targets.shape[0]\n",
    "        return acc\n",
    "        "
   ]
  },
  {
   "cell_type": "code",
   "execution_count": 22,
   "metadata": {
    "collapsed": true
   },
   "outputs": [],
   "source": [
    "# One major difference is that GCN does not change the features of the nodes, this arch does because it has\n",
    "# hidden states. I'm gonna definitly wanna consider/try NOT changing the nodes hidden states between outputs.\n",
    "# Meaning, they can change in propgations, but after the prop loop is done (outputs/actions have been recieved)\n",
    "# I reset the node states and edge states. Which really just means like in the GCN model I input the features\n",
    "# for every round to refresh them. \n",
    "\n",
    "# IMPORTANT: Actually this does do that, because the node feats (X) are sent in every epoch\n",
    "\n",
    "# Also note that one prop can be considered like a layer of a GCN\n",
    "def run_epoch(gnn, opimizer, X, num_props, epoch_num):\n",
    "    # Every time you run through a minibatch, zero out the grad\n",
    "    optimizer.zero_grad()\n",
    "    # Convert node_feats np to node_states torch tensor\n",
    "    node_states = torch.tensor(X).float()\n",
    "    for p in range(num_props):\n",
    "        node_states, outputs = gnn(node_states, p == 0, p == num_props-1)\n",
    "    # Train (send in only the first certain number of nodes for training since this is semi-supervised)\n",
    "    train_outputs = outputs[range_train[0]:range_train[1], :]\n",
    "    train_targets = y[range_train[0]:range_train[1]]\n",
    "    train_loss = gnn.backward(train_outputs, train_targets)\n",
    "    train_acc = gnn.get_accuracy(train_outputs, train_targets)\n",
    "    optimizer.step()\n",
    "    \n",
    "    # Val (here because the graph has already been propgated)\n",
    "    val_outputs = outputs[range_val[0]:range_val[1], :]\n",
    "    val_targets = y[range_val[0]:range_val[1]]\n",
    "    val_loss = gnn.get_loss(val_outputs, val_targets)\n",
    "    val_acc = gnn.get_accuracy(val_outputs, val_targets)\n",
    "    \n",
    "    print('Epoch: {}  train_loss: {:.3f}  train_acc: {:.3f}  val_loss: {:.3f}  val_acc: {:.3f}'.format(epoch_num, train_loss, train_acc, val_loss, val_acc))\n",
    "    \n",
    "    "
   ]
  },
  {
   "cell_type": "code",
   "execution_count": 23,
   "metadata": {},
   "outputs": [
    {
     "name": "stderr",
     "output_type": "stream",
     "text": [
      "C:\\Users\\Max Brenner\\Anaconda3\\lib\\site-packages\\matplotlib\\axes\\_base.py:3215: MatplotlibDeprecationWarning: \n",
      "The `xmin` argument was deprecated in Matplotlib 3.0 and will be removed in 3.2. Use `left` instead.\n",
      "  alternative='`left`', obj_type='argument')\n",
      "C:\\Users\\Max Brenner\\Anaconda3\\lib\\site-packages\\matplotlib\\axes\\_base.py:3221: MatplotlibDeprecationWarning: \n",
      "The `xmax` argument was deprecated in Matplotlib 3.0 and will be removed in 3.2. Use `right` instead.\n",
      "  alternative='`right`', obj_type='argument')\n"
     ]
    },
    {
     "name": "stdout",
     "output_type": "stream",
     "text": [
      "Epoch: 1  train_loss: 1.926  train_acc: 0.286  val_loss: 1.928  val_acc: 0.340\n",
      "Epoch: 2  train_loss: 1.788  train_acc: 0.293  val_loss: 1.871  val_acc: 0.350\n",
      "Epoch: 3  train_loss: 1.584  train_acc: 0.400  val_loss: 1.781  val_acc: 0.370\n",
      "Epoch: 4  train_loss: 1.313  train_acc: 0.371  val_loss: 1.614  val_acc: 0.357\n",
      "Epoch: 5  train_loss: 1.002  train_acc: 0.614  val_loss: 1.463  val_acc: 0.497\n",
      "Epoch: 6  train_loss: 0.755  train_acc: 0.750  val_loss: 1.295  val_acc: 0.577\n",
      "Epoch: 7  train_loss: 0.492  train_acc: 0.864  val_loss: 1.116  val_acc: 0.627\n",
      "Epoch: 8  train_loss: 0.297  train_acc: 0.943  val_loss: 1.031  val_acc: 0.680\n",
      "Epoch: 9  train_loss: 0.145  train_acc: 0.986  val_loss: 1.055  val_acc: 0.660\n",
      "Epoch: 10  train_loss: 0.091  train_acc: 0.986  val_loss: 1.430  val_acc: 0.653\n",
      "Epoch: 11  train_loss: 0.031  train_acc: 1.000  val_loss: 1.453  val_acc: 0.693\n",
      "Epoch: 12  train_loss: 0.016  train_acc: 1.000  val_loss: 1.734  val_acc: 0.667\n",
      "Epoch: 13  train_loss: 0.134  train_acc: 0.979  val_loss: 2.227  val_acc: 0.687\n",
      "Epoch: 14  train_loss: 0.006  train_acc: 1.000  val_loss: 2.026  val_acc: 0.693\n",
      "Epoch: 15  train_loss: 0.023  train_acc: 0.993  val_loss: 2.071  val_acc: 0.727\n",
      "Epoch: 16  train_loss: 0.001  train_acc: 1.000  val_loss: 2.469  val_acc: 0.720\n",
      "Epoch: 17  train_loss: 0.003  train_acc: 1.000  val_loss: 3.198  val_acc: 0.670\n",
      "Epoch: 18  train_loss: 0.077  train_acc: 0.979  val_loss: 3.402  val_acc: 0.683\n",
      "Epoch: 19  train_loss: 0.068  train_acc: 0.986  val_loss: 4.156  val_acc: 0.693\n",
      "Epoch: 20  train_loss: 0.003  train_acc: 1.000  val_loss: 3.840  val_acc: 0.710\n"
     ]
    },
    {
     "data": {
      "image/png": "[encoded data removed]",
      "text/plain": [
       "<Figure size 432x288 with 1 Axes>"
      ]
     },
     "metadata": {},
     "output_type": "display_data"
    }
   ],
   "source": [
    "gnn = GNBlock()\n",
    "optimizer = optim.Adam(gnn.parameters(), lr = 1e-2)\n",
    "\n",
    "num_props = 1\n",
    "num_epochs = 20\n",
    "for epoch in range(num_epochs):\n",
    "    run_epoch(gnn, optimizer, X, num_props, epoch+1)\n",
    "plt.show()"
   ]
  },
  {
   "cell_type": "code",
   "execution_count": null,
   "metadata": {
    "collapsed": true
   },
   "outputs": [],
   "source": []
  }
 ],
 "metadata": {
  "kernelspec": {
   "display_name": "Python 3",
   "language": "python",
   "name": "python3"
  },
  "language_info": {
   "codemirror_mode": {
    "name": "ipython",
    "version": 3
   },
   "file_extension": ".py",
   "mimetype": "text/x-python",
   "name": "python",
   "nbconvert_exporter": "python",
   "pygments_lexer": "ipython3",
   "version": "3.6.8"
  }
 },
 "nbformat": 4,
 "nbformat_minor": 2
}
