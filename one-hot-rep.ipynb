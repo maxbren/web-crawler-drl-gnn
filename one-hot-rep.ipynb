{
 "cells": [
  {
   "cell_type": "code",
   "execution_count": 22,
   "metadata": {
    "collapsed": true
   },
   "outputs": [],
   "source": [
    "# Generate the oring of the one hot feats for each word in the title\n",
    "import re\n",
    "import pickle\n",
    "from collections import OrderedDict\n",
    "import numpy as np"
   ]
  },
  {
   "cell_type": "code",
   "execution_count": 11,
   "metadata": {
    "collapsed": true
   },
   "outputs": [],
   "source": [
    "class Page:\n",
    "    def __init__(self, text, links):\n",
    "        self.text = text\n",
    "        self.links = links  # out-links\n",
    "        self.in_links = []\n",
    "        self.indx = None  # Relative to the ordered dict below\n",
    "        self.feats = None"
   ]
  },
  {
   "cell_type": "code",
   "execution_count": 12,
   "metadata": {},
   "outputs": [],
   "source": [
    "# Load the wiki-dict i want\n",
    "with open('data/animals-D3-small-30K-nodes40-edges202-max10-minout2-minin3.pkl', 'rb') as f:\n",
    "    pages = pickle.load(f)\n",
    "pages = OrderedDict(pages)"
   ]
  },
  {
   "cell_type": "code",
   "execution_count": 29,
   "metadata": {
    "collapsed": true
   },
   "outputs": [],
   "source": [
    "replace_chars = lambda title: re.sub(r\"[()]\", '', title)"
   ]
  },
  {
   "cell_type": "code",
   "execution_count": 32,
   "metadata": {
    "collapsed": true
   },
   "outputs": [],
   "source": [
    "def create_dict(titles):\n",
    "    # Split each title into its words and ignore ()\n",
    "    words = set()\n",
    "    for title in titles:\n",
    "        title = replace_chars(title)\n",
    "        title_words = title.split()\n",
    "        words.update(title_words)\n",
    "    return words"
   ]
  },
  {
   "cell_type": "code",
   "execution_count": 33,
   "metadata": {},
   "outputs": [],
   "source": [
    "titles = list(pages.keys())\n",
    "words_set = create_dict(titles)"
   ]
  },
  {
   "cell_type": "code",
   "execution_count": 54,
   "metadata": {
    "collapsed": true
   },
   "outputs": [],
   "source": [
    "def one_hot_encode(words_set):\n",
    "    num_words = len(words_set)\n",
    "    print('Dict length: {}'.format(num_words))\n",
    "    dic = {}\n",
    "    for i, word in enumerate(words_set):\n",
    "        encoding = np.zeros(shape=(num_words,), dtype=np.int)\n",
    "        encoding[i] = 1\n",
    "        dic[word] = encoding\n",
    "    return dic"
   ]
  },
  {
   "cell_type": "code",
   "execution_count": 55,
   "metadata": {},
   "outputs": [
    {
     "name": "stdout",
     "output_type": "stream",
     "text": [
      "Dict length: 42\n"
     ]
    }
   ],
   "source": [
    "encoding_dic = one_hot_encode(words_set)"
   ]
  },
  {
   "cell_type": "code",
   "execution_count": 62,
   "metadata": {},
   "outputs": [],
   "source": [
    "def add_node_feats(pages, dic):\n",
    "    for title, obj in list(pages.items()):\n",
    "        title_encode = np.zeros(shape=(len(dic,)), dtype=np.int)  # Init encode is all zeros since im oring\n",
    "        title_ = replace_chars(title)\n",
    "        title_words = title_.split()\n",
    "        for word in title_words:\n",
    "            word_encoding = dic[word]\n",
    "            title_encode = np.logical_or(title_encode, word_encoding, dtype=np.int).astype(np.int)\n",
    "        obj.feats = title_encode"
   ]
  },
  {
   "cell_type": "code",
   "execution_count": 63,
   "metadata": {},
   "outputs": [],
   "source": [
    "add_node_feats(pages, encoding_dic)"
   ]
  },
  {
   "cell_type": "code",
   "execution_count": 66,
   "metadata": {
    "collapsed": true
   },
   "outputs": [],
   "source": [
    "with open('data/animals-D3-small-30K-nodes40-edges202-max10-minout2-minin3_w_features.pkl', 'wb') as f:\n",
    "    pickle.dump(pages, f)"
   ]
  },
  {
   "cell_type": "code",
   "execution_count": null,
   "metadata": {
    "collapsed": true
   },
   "outputs": [],
   "source": []
  }
 ],
 "metadata": {
  "kernelspec": {
   "display_name": "Python 3",
   "language": "python",
   "name": "python3"
  },
  "language_info": {
   "codemirror_mode": {
    "name": "ipython",
    "version": 3
   },
   "file_extension": ".py",
   "mimetype": "text/x-python",
   "name": "python",
   "nbconvert_exporter": "python",
   "pygments_lexer": "ipython3",
   "version": "3.7.3"
  }
 },
 "nbformat": 4,
 "nbformat_minor": 2
}
